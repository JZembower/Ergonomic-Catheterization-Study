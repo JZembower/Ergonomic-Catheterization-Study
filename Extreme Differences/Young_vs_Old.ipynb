{
 "cells": [
  {
   "cell_type": "code",
   "execution_count": null,
   "metadata": {},
   "outputs": [],
   "source": [
    "#***************************\n",
    "# Name: Jonah Zembower\n",
    "# Date: March 17, 2025\n",
    "# Project: Harvard Research Study on Postural Stability During Heart Catheterization Surgeries\n",
    "#***************************"
   ]
  },
  {
   "cell_type": "markdown",
   "metadata": {},
   "source": [
    "# Introduction:"
   ]
  },
  {
   "cell_type": "markdown",
   "metadata": {},
   "source": [
    "In this notebook, I overlayed the difference between the oldest subject (age 24) and the youngest subject (age 62) in the many different areas of data collection for IMU and EMG analysis. I also looked into the differences that were seen to be greatest in the IMU vs. EMG data."
   ]
  },
  {
   "cell_type": "markdown",
   "metadata": {},
   "source": [
    "# Libraries and Data:"
   ]
  },
  {
   "cell_type": "markdown",
   "metadata": {},
   "source": [
    "Importing the necessary libraries:"
   ]
  },
  {
   "cell_type": "code",
   "execution_count": 5,
   "metadata": {},
   "outputs": [],
   "source": [
    "# Libraries to import\n",
    "import pandas as pd\n",
    "import matplotlib.pyplot as plt\n",
    "import numpy as np\n",
    "import seaborn as sns"
   ]
  },
  {
   "cell_type": "markdown",
   "metadata": {},
   "source": [
    "Importing the data:"
   ]
  },
  {
   "cell_type": "code",
   "execution_count": 7,
   "metadata": {},
   "outputs": [],
   "source": [
    "# Load in the sum of duration merged dataset\n",
    "sum_duration = pd.read_csv('C:\\\\Users\\\\jrzem\\\\OneDrive\\\\Coding Applications\\\\Harvard Study\\\\CSVs\\\\Full Sum of Duration Merged\\\\combined_sum_duration.csv')\n",
    "# Demographic Data\n",
    "demographic_data = pd.read_csv('C:\\\\Users\\\\jrzem\\\\OneDrive\\\\Coding Applications\\\\Harvard Study\\\\Extra Data\\\\BASELINESURVEY_RAMPART_WITH LABELS.csv')"
   ]
  },
  {
   "cell_type": "markdown",
   "metadata": {},
   "source": [
    "# Assessing the Differences:"
   ]
  },
  {
   "cell_type": "markdown",
   "metadata": {},
   "source": [
    "### Demographics:"
   ]
  },
  {
   "cell_type": "code",
   "execution_count": 9,
   "metadata": {},
   "outputs": [
    {
     "data": {
      "application/vnd.microsoft.datawrangler.viewer.v0+json": {
       "columns": [
        {
         "name": "index",
         "rawType": "object",
         "type": "string"
        },
        {
         "name": "10",
         "rawType": "object",
         "type": "unknown"
        },
        {
         "name": "28",
         "rawType": "object",
         "type": "unknown"
        }
       ],
       "conversionMethod": "pd.DataFrame",
       "ref": "e0a96cb4-a5a4-4dc9-bc81-3be739ecbe60",
       "rows": [
        [
         "Participant ID",
         "11",
         "29"
        ],
        [
         "Age",
         "24",
         "62"
        ],
        [
         "Race ",
         "Caucasian",
         "Caucasian"
        ],
        [
         "Ethnicity ",
         "Not Hispanic or Latino",
         "Not Hispanic or Latino"
        ],
        [
         "Gender",
         "female",
         "female"
        ],
        [
         "Role in cath lab",
         "Technologist",
         "Attending"
        ],
        [
         "How many years has the participant worked in the cardiac catheterization laboratory?",
         "1.0",
         null
        ],
        [
         "Participant Height (in)",
         "65",
         "62"
        ],
        [
         "Participant Weight (lbs)",
         "140",
         "150"
        ],
        [
         "Weight of Lead (lbs)",
         null,
         null
        ],
        [
         "Is the lead...",
         "two piece",
         "two piece"
        ],
        [
         "Do you exercise...",
         "4+ days a week",
         "2-3 days a week"
        ],
        [
         "Cardio",
         "Checked",
         "Checked"
        ],
        [
         "Upper Body Strength Training",
         "Checked",
         "Unchecked"
        ],
        [
         "Lower body strength training",
         "Checked",
         "Unchecked"
        ],
        [
         "Abdominal strength training",
         "Checked",
         "Unchecked"
        ],
        [
         "Yoga",
         "Checked",
         "Unchecked"
        ],
        [
         "Stretching",
         "Unchecked",
         "Unchecked"
        ],
        [
         "Pilates",
         "Checked",
         "Unchecked"
        ],
        [
         "Other Exercise",
         "Unchecked",
         "Unchecked"
        ],
        [
         "Do you have a history of orthopedic injury?",
         "Yes",
         "Yes"
        ],
        [
         "Neck Injury",
         "Unchecked",
         "Unchecked"
        ],
        [
         "Back Injury",
         "Checked",
         "Unchecked"
        ],
        [
         "Shoulder Injury",
         "Unchecked",
         "Unchecked"
        ],
        [
         "Leg Injury",
         "Unchecked",
         "Checked"
        ],
        [
         "Arm Injury",
         "Unchecked",
         "Unchecked"
        ],
        [
         "Other Injury",
         "Unchecked",
         "Unchecked"
        ],
        [
         "Have you ever had surgery for orthopedic injury?",
         "No",
         "Yes"
        ],
        [
         "Do you have any chronic pain syndromes?",
         "No",
         "No"
        ],
        [
         "Neck Pain",
         "Checked",
         "Unchecked"
        ],
        [
         "Back Pain",
         "Unchecked",
         "Unchecked"
        ],
        [
         "Shoulder Pain",
         "Unchecked",
         "Unchecked"
        ],
        [
         "Arm Pain",
         "Unchecked",
         "Unchecked"
        ],
        [
         "Leg Pain",
         "Unchecked",
         "Unchecked"
        ],
        [
         "Other Pain",
         "Unchecked",
         "Unchecked"
        ],
        [
         "Complete?",
         "Complete",
         "Complete"
        ]
       ],
       "shape": {
        "columns": 2,
        "rows": 36
       }
      },
      "text/html": [
       "<div>\n",
       "<style scoped>\n",
       "    .dataframe tbody tr th:only-of-type {\n",
       "        vertical-align: middle;\n",
       "    }\n",
       "\n",
       "    .dataframe tbody tr th {\n",
       "        vertical-align: top;\n",
       "    }\n",
       "\n",
       "    .dataframe thead th {\n",
       "        text-align: right;\n",
       "    }\n",
       "</style>\n",
       "<table border=\"1\" class=\"dataframe\">\n",
       "  <thead>\n",
       "    <tr style=\"text-align: right;\">\n",
       "      <th></th>\n",
       "      <th>10</th>\n",
       "      <th>28</th>\n",
       "    </tr>\n",
       "  </thead>\n",
       "  <tbody>\n",
       "    <tr>\n",
       "      <th>Participant ID</th>\n",
       "      <td>11</td>\n",
       "      <td>29</td>\n",
       "    </tr>\n",
       "    <tr>\n",
       "      <th>Age</th>\n",
       "      <td>24</td>\n",
       "      <td>62</td>\n",
       "    </tr>\n",
       "    <tr>\n",
       "      <th>Race</th>\n",
       "      <td>Caucasian</td>\n",
       "      <td>Caucasian</td>\n",
       "    </tr>\n",
       "    <tr>\n",
       "      <th>Ethnicity</th>\n",
       "      <td>Not Hispanic or Latino</td>\n",
       "      <td>Not Hispanic or Latino</td>\n",
       "    </tr>\n",
       "    <tr>\n",
       "      <th>Gender</th>\n",
       "      <td>female</td>\n",
       "      <td>female</td>\n",
       "    </tr>\n",
       "    <tr>\n",
       "      <th>Role in cath lab</th>\n",
       "      <td>Technologist</td>\n",
       "      <td>Attending</td>\n",
       "    </tr>\n",
       "    <tr>\n",
       "      <th>How many years has the participant worked in the cardiac catheterization laboratory?</th>\n",
       "      <td>1.0</td>\n",
       "      <td>NaN</td>\n",
       "    </tr>\n",
       "    <tr>\n",
       "      <th>Participant Height (in)</th>\n",
       "      <td>65</td>\n",
       "      <td>62</td>\n",
       "    </tr>\n",
       "    <tr>\n",
       "      <th>Participant Weight (lbs)</th>\n",
       "      <td>140</td>\n",
       "      <td>150</td>\n",
       "    </tr>\n",
       "    <tr>\n",
       "      <th>Weight of Lead (lbs)</th>\n",
       "      <td>NaN</td>\n",
       "      <td>NaN</td>\n",
       "    </tr>\n",
       "    <tr>\n",
       "      <th>Is the lead...</th>\n",
       "      <td>two piece</td>\n",
       "      <td>two piece</td>\n",
       "    </tr>\n",
       "    <tr>\n",
       "      <th>Do you exercise...</th>\n",
       "      <td>4+ days a week</td>\n",
       "      <td>2-3 days a week</td>\n",
       "    </tr>\n",
       "    <tr>\n",
       "      <th>Cardio</th>\n",
       "      <td>Checked</td>\n",
       "      <td>Checked</td>\n",
       "    </tr>\n",
       "    <tr>\n",
       "      <th>Upper Body Strength Training</th>\n",
       "      <td>Checked</td>\n",
       "      <td>Unchecked</td>\n",
       "    </tr>\n",
       "    <tr>\n",
       "      <th>Lower body strength training</th>\n",
       "      <td>Checked</td>\n",
       "      <td>Unchecked</td>\n",
       "    </tr>\n",
       "    <tr>\n",
       "      <th>Abdominal strength training</th>\n",
       "      <td>Checked</td>\n",
       "      <td>Unchecked</td>\n",
       "    </tr>\n",
       "    <tr>\n",
       "      <th>Yoga</th>\n",
       "      <td>Checked</td>\n",
       "      <td>Unchecked</td>\n",
       "    </tr>\n",
       "    <tr>\n",
       "      <th>Stretching</th>\n",
       "      <td>Unchecked</td>\n",
       "      <td>Unchecked</td>\n",
       "    </tr>\n",
       "    <tr>\n",
       "      <th>Pilates</th>\n",
       "      <td>Checked</td>\n",
       "      <td>Unchecked</td>\n",
       "    </tr>\n",
       "    <tr>\n",
       "      <th>Other Exercise</th>\n",
       "      <td>Unchecked</td>\n",
       "      <td>Unchecked</td>\n",
       "    </tr>\n",
       "    <tr>\n",
       "      <th>Do you have a history of orthopedic injury?</th>\n",
       "      <td>Yes</td>\n",
       "      <td>Yes</td>\n",
       "    </tr>\n",
       "    <tr>\n",
       "      <th>Neck Injury</th>\n",
       "      <td>Unchecked</td>\n",
       "      <td>Unchecked</td>\n",
       "    </tr>\n",
       "    <tr>\n",
       "      <th>Back Injury</th>\n",
       "      <td>Checked</td>\n",
       "      <td>Unchecked</td>\n",
       "    </tr>\n",
       "    <tr>\n",
       "      <th>Shoulder Injury</th>\n",
       "      <td>Unchecked</td>\n",
       "      <td>Unchecked</td>\n",
       "    </tr>\n",
       "    <tr>\n",
       "      <th>Leg Injury</th>\n",
       "      <td>Unchecked</td>\n",
       "      <td>Checked</td>\n",
       "    </tr>\n",
       "    <tr>\n",
       "      <th>Arm Injury</th>\n",
       "      <td>Unchecked</td>\n",
       "      <td>Unchecked</td>\n",
       "    </tr>\n",
       "    <tr>\n",
       "      <th>Other Injury</th>\n",
       "      <td>Unchecked</td>\n",
       "      <td>Unchecked</td>\n",
       "    </tr>\n",
       "    <tr>\n",
       "      <th>Have you ever had surgery for orthopedic injury?</th>\n",
       "      <td>No</td>\n",
       "      <td>Yes</td>\n",
       "    </tr>\n",
       "    <tr>\n",
       "      <th>Do you have any chronic pain syndromes?</th>\n",
       "      <td>No</td>\n",
       "      <td>No</td>\n",
       "    </tr>\n",
       "    <tr>\n",
       "      <th>Neck Pain</th>\n",
       "      <td>Checked</td>\n",
       "      <td>Unchecked</td>\n",
       "    </tr>\n",
       "    <tr>\n",
       "      <th>Back Pain</th>\n",
       "      <td>Unchecked</td>\n",
       "      <td>Unchecked</td>\n",
       "    </tr>\n",
       "    <tr>\n",
       "      <th>Shoulder Pain</th>\n",
       "      <td>Unchecked</td>\n",
       "      <td>Unchecked</td>\n",
       "    </tr>\n",
       "    <tr>\n",
       "      <th>Arm Pain</th>\n",
       "      <td>Unchecked</td>\n",
       "      <td>Unchecked</td>\n",
       "    </tr>\n",
       "    <tr>\n",
       "      <th>Leg Pain</th>\n",
       "      <td>Unchecked</td>\n",
       "      <td>Unchecked</td>\n",
       "    </tr>\n",
       "    <tr>\n",
       "      <th>Other Pain</th>\n",
       "      <td>Unchecked</td>\n",
       "      <td>Unchecked</td>\n",
       "    </tr>\n",
       "    <tr>\n",
       "      <th>Complete?</th>\n",
       "      <td>Complete</td>\n",
       "      <td>Complete</td>\n",
       "    </tr>\n",
       "  </tbody>\n",
       "</table>\n",
       "</div>"
      ],
      "text/plain": [
       "                                                                        10  \\\n",
       "Participant ID                                                          11   \n",
       "Age                                                                     24   \n",
       "Race                                                             Caucasian   \n",
       "Ethnicity                                           Not Hispanic or Latino   \n",
       "Gender                                                              female   \n",
       "Role in cath lab                                              Technologist   \n",
       "How many years has the participant worked in th...                     1.0   \n",
       "Participant Height (in)                                                 65   \n",
       "Participant Weight (lbs)                                               140   \n",
       "Weight of Lead (lbs)                                                   NaN   \n",
       "Is the lead...                                                   two piece   \n",
       "Do you exercise...                                          4+ days a week   \n",
       "Cardio                                                             Checked   \n",
       "Upper Body Strength Training                                       Checked   \n",
       "Lower body strength training                                       Checked   \n",
       "Abdominal strength training                                        Checked   \n",
       "Yoga                                                               Checked   \n",
       "Stretching                                                       Unchecked   \n",
       "Pilates                                                            Checked   \n",
       "Other Exercise                                                   Unchecked   \n",
       "Do you have a history of orthopedic injury?                            Yes   \n",
       "Neck Injury                                                      Unchecked   \n",
       "Back Injury                                                        Checked   \n",
       "Shoulder Injury                                                  Unchecked   \n",
       "Leg Injury                                                       Unchecked   \n",
       "Arm Injury                                                       Unchecked   \n",
       "Other Injury                                                     Unchecked   \n",
       "Have you ever had surgery for orthopedic injury?                        No   \n",
       "Do you have any chronic pain syndromes?                                 No   \n",
       "Neck Pain                                                          Checked   \n",
       "Back Pain                                                        Unchecked   \n",
       "Shoulder Pain                                                    Unchecked   \n",
       "Arm Pain                                                         Unchecked   \n",
       "Leg Pain                                                         Unchecked   \n",
       "Other Pain                                                       Unchecked   \n",
       "Complete?                                                         Complete   \n",
       "\n",
       "                                                                        28  \n",
       "Participant ID                                                          29  \n",
       "Age                                                                     62  \n",
       "Race                                                             Caucasian  \n",
       "Ethnicity                                           Not Hispanic or Latino  \n",
       "Gender                                                              female  \n",
       "Role in cath lab                                                 Attending  \n",
       "How many years has the participant worked in th...                     NaN  \n",
       "Participant Height (in)                                                 62  \n",
       "Participant Weight (lbs)                                               150  \n",
       "Weight of Lead (lbs)                                                   NaN  \n",
       "Is the lead...                                                   two piece  \n",
       "Do you exercise...                                         2-3 days a week  \n",
       "Cardio                                                             Checked  \n",
       "Upper Body Strength Training                                     Unchecked  \n",
       "Lower body strength training                                     Unchecked  \n",
       "Abdominal strength training                                      Unchecked  \n",
       "Yoga                                                             Unchecked  \n",
       "Stretching                                                       Unchecked  \n",
       "Pilates                                                          Unchecked  \n",
       "Other Exercise                                                   Unchecked  \n",
       "Do you have a history of orthopedic injury?                            Yes  \n",
       "Neck Injury                                                      Unchecked  \n",
       "Back Injury                                                      Unchecked  \n",
       "Shoulder Injury                                                  Unchecked  \n",
       "Leg Injury                                                         Checked  \n",
       "Arm Injury                                                       Unchecked  \n",
       "Other Injury                                                     Unchecked  \n",
       "Have you ever had surgery for orthopedic injury?                       Yes  \n",
       "Do you have any chronic pain syndromes?                                 No  \n",
       "Neck Pain                                                        Unchecked  \n",
       "Back Pain                                                        Unchecked  \n",
       "Shoulder Pain                                                    Unchecked  \n",
       "Arm Pain                                                         Unchecked  \n",
       "Leg Pain                                                         Unchecked  \n",
       "Other Pain                                                       Unchecked  \n",
       "Complete?                                                         Complete  "
      ]
     },
     "execution_count": 9,
     "metadata": {},
     "output_type": "execute_result"
    }
   ],
   "source": [
    "# Filter the dataframe for subjects 011 and 029\n",
    "subject_11 = demographic_data[demographic_data['Participant ID'] == 11]\n",
    "subject_29 = demographic_data[demographic_data['Participant ID'] == 29]\n",
    "\n",
    "# Concatenate the two subjects into a single dataframe for comparison\n",
    "comparison_df = pd.concat([subject_11, subject_29])\n",
    "\n",
    "# Display the differences\n",
    "comparison_df.T"
   ]
  },
  {
   "cell_type": "markdown",
   "metadata": {},
   "source": [
    "### Joint Angles in Risk Positions:"
   ]
  },
  {
   "cell_type": "code",
   "execution_count": null,
   "metadata": {},
   "outputs": [],
   "source": [
    "# Columns for Cervical/Thoracic\n",
    "cervical_thoracic_columns = ['Cervical Flexion Fwd [deg]', 'Cervical Flexion Lat RT [deg]', 'Cervical Axial RT [deg]'\n",
    "       ,'Thoracic Flexion Fwd [deg]', 'Thoracic Flexion Lat RT [deg]', 'Thoracic Axial RT [deg]']\n",
    "# Columns for Lumbar/Pelvic\n",
    "lumbar_pelvic_columns = ['Torso-Pelvic Flexion Fwd [deg]',\n",
    "       'Torso-Pelvic Flexion Lat RT [deg]',\n",
    "       'Torso-Pelvic Axial RT [deg]','Lumbar Flexion Fwd [deg]',\n",
    "       'Lumbar Flexion Lat RT [deg]',\n",
    "       'Lumbar Axial RT [deg]']"
   ]
  },
  {
   "cell_type": "code",
   "execution_count": null,
   "metadata": {},
   "outputs": [],
   "source": [
    "# Filter the sum_duration dataframe for subjects 11 and 29\n",
    "subject_11_data = sum_duration[sum_duration['Participant ID'] == '11']\n",
    "subject_29_data = sum_duration[sum_duration['Participant ID'] == '29']\n",
    "\n",
    "# Combine the data for plotting\n",
    "combined_data = pd.concat([subject_11_data[cervical_thoracic_columns], subject_29_data[cervical_thoracic_columns]], keys=['Subject 11', 'Subject 29'])\n",
    "\n",
    "# Reset the index for proper plotting\n",
    "combined_data = combined_data.reset_index(level=0).rename(columns={'level_0': 'Subject'})\n",
    "\n",
    "# Plot the box plots\n",
    "plt.figure(figsize=(15, 10))\n",
    "sns.boxplot(x='variable', y='value', hue='Subject', data=pd.melt(combined_data, id_vars='Subject'))\n",
    "plt.title('Cervical/Thoracic Joint Angles: Subject 11 vs. Subject 29')\n",
    "plt.xlabel('Joint Angles')\n",
    "plt.ylabel('Degrees')\n",
    "plt.xticks(rotation=45)\n",
    "plt.legend(title='Subject')\n",
    "plt.show()"
   ]
  },
  {
   "cell_type": "markdown",
   "metadata": {},
   "source": [
    "### EMG Differences:"
   ]
  },
  {
   "cell_type": "code",
   "execution_count": null,
   "metadata": {},
   "outputs": [],
   "source": []
  }
 ],
 "metadata": {
  "kernelspec": {
   "display_name": ".venv",
   "language": "python",
   "name": "python3"
  },
  "language_info": {
   "codemirror_mode": {
    "name": "ipython",
    "version": 3
   },
   "file_extension": ".py",
   "mimetype": "text/x-python",
   "name": "python",
   "nbconvert_exporter": "python",
   "pygments_lexer": "ipython3",
   "version": "3.12.9"
  }
 },
 "nbformat": 4,
 "nbformat_minor": 2
}
