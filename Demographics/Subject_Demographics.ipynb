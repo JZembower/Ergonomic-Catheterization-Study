{
 "cells": [
  {
   "cell_type": "markdown",
   "metadata": {},
   "source": [
    "# Introduction:"
   ]
  },
  {
   "cell_type": "markdown",
   "metadata": {},
   "source": [
    "Attemtping to create a baseline data table that looks at the general subject demographics. \n",
    "\n",
    "1. Create a summary table for Age, Sex, Roles, BMI, Exercise status, etc.\n",
    "2. Create a summary table for the joint angles.\n",
    "3. Create a summary table for the kinematics.\n",
    "4. Create a summary table for the EMG.\n",
    "5. Create a summary table for the discomfort survey.\n",
    "6. Create a summary table for the radiation data."
   ]
  },
  {
   "cell_type": "markdown",
   "metadata": {},
   "source": [
    "### Importing the Libraries:"
   ]
  },
  {
   "cell_type": "code",
   "execution_count": null,
   "metadata": {},
   "outputs": [],
   "source": []
  },
  {
   "cell_type": "markdown",
   "metadata": {},
   "source": [
    "### Importing the Data:"
   ]
  },
  {
   "cell_type": "code",
   "execution_count": null,
   "metadata": {},
   "outputs": [],
   "source": []
  }
 ],
 "metadata": {
  "kernelspec": {
   "display_name": ".venv",
   "language": "python",
   "name": "python3"
  },
  "language_info": {
   "name": "python",
   "version": "3.12.9"
  }
 },
 "nbformat": 4,
 "nbformat_minor": 2
}
