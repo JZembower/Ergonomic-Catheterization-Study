{
 "cells": [
  {
   "cell_type": "markdown",
   "metadata": {},
   "source": [
    "# Introduction:"
   ]
  },
  {
   "cell_type": "markdown",
   "metadata": {},
   "source": [
    "Attemtping to create a baseline data table that looks at the general subject demographics. \n",
    "\n",
    "1. Create a summary table for Age, Sex, Roles, BMI, Exercise status, etc.\n",
    "2. Create a summary table for the case data.\n",
    "3. Create a summary table for the discomfort survey.\n",
    "4. Create a summary table for the radiation data."
   ]
  },
  {
   "cell_type": "markdown",
   "metadata": {},
   "source": [
    "### Importing the Libraries:"
   ]
  },
  {
   "cell_type": "code",
   "execution_count": 1,
   "metadata": {},
   "outputs": [],
   "source": [
    "# Importing Libraries\n",
    "import pandas as pd\n",
    "import numpy as np\n",
    "import matplotlib.pyplot as plt\n",
    "import seaborn as sns"
   ]
  },
  {
   "cell_type": "markdown",
   "metadata": {},
   "source": [
    "### Importing the Data:"
   ]
  },
  {
   "cell_type": "code",
   "execution_count": 2,
   "metadata": {},
   "outputs": [],
   "source": [
    "# Load in the case data\n",
    "case_data = pd.read_csv('C:\\\\Users\\\\jrzem\\\\OneDrive\\\\Coding Applications\\\\Harvard Study\\\\Extra Data\\\\CASEDATA_RAMPART_WITH LABELS.csv')\n",
    "# Demographic Data\n",
    "demographic_data = pd.read_csv('C:\\\\Users\\\\jrzem\\\\OneDrive\\\\Coding Applications\\\\Harvard Study\\\\Extra Data\\\\BASELINESURVEY_RAMPART_WITH LABELS.csv')\n",
    "# Load in the discomfort data\n",
    "discomfort_data = pd.read_csv('C:\\\\Users\\\\jrzem\\\\OneDrive\\\\Coding Applications\\\\Harvard Study\\\\Extra Data\\\\Discomfort Survey.csv')\n",
    "# Load in the sum of duration merged dataset\n",
    "sum_duration = pd.read_csv('C:\\\\Users\\\\jrzem\\\\OneDrive\\\\Coding Applications\\\\Harvard Study\\\\CSVs\\\\Full Sum of Duration Merged\\\\combined_sum_duration.csv')"
   ]
  },
  {
   "cell_type": "markdown",
   "metadata": {},
   "source": [
    "# Tables:"
   ]
  },
  {
   "cell_type": "code",
   "execution_count": 3,
   "metadata": {},
   "outputs": [],
   "source": [
    "operators_list = [1, 2, 3, 4, 5, 6,\n",
    "    7, 8, 19, 20, 21, 22, 23,\n",
    "    24, 26, 27, 28, 29, 30, 31]"
   ]
  },
  {
   "cell_type": "code",
   "execution_count": 4,
   "metadata": {},
   "outputs": [],
   "source": [
    "demographic_data = demographic_data[demographic_data['Participant ID'].isin(operators_list)]"
   ]
  },
  {
   "cell_type": "markdown",
   "metadata": {},
   "source": [
    "### 1. Basic Demographics:"
   ]
  },
  {
   "cell_type": "code",
   "execution_count": 5,
   "metadata": {},
   "outputs": [
    {
     "data": {
      "application/vnd.microsoft.datawrangler.viewer.v0+json": {
       "columns": [
        {
         "name": "index",
         "rawType": "int64",
         "type": "integer"
        },
        {
         "name": "Participant ID",
         "rawType": "int64",
         "type": "integer"
        },
        {
         "name": "Age",
         "rawType": "int64",
         "type": "integer"
        },
        {
         "name": "Race ",
         "rawType": "object",
         "type": "string"
        },
        {
         "name": "Ethnicity ",
         "rawType": "object",
         "type": "string"
        },
        {
         "name": "Gender",
         "rawType": "object",
         "type": "string"
        },
        {
         "name": "Role in cath lab",
         "rawType": "object",
         "type": "string"
        },
        {
         "name": "How many years has the participant worked in the cardiac catheterization laboratory?",
         "rawType": "float64",
         "type": "float"
        },
        {
         "name": "Participant Height (in)",
         "rawType": "int64",
         "type": "integer"
        },
        {
         "name": "Participant Weight (lbs)",
         "rawType": "int64",
         "type": "integer"
        },
        {
         "name": "Weight of Lead (lbs)",
         "rawType": "float64",
         "type": "float"
        },
        {
         "name": "Is the lead...",
         "rawType": "object",
         "type": "string"
        },
        {
         "name": "Do you exercise...",
         "rawType": "object",
         "type": "unknown"
        },
        {
         "name": "Cardio",
         "rawType": "object",
         "type": "string"
        },
        {
         "name": "Upper Body Strength Training",
         "rawType": "object",
         "type": "string"
        },
        {
         "name": "Lower body strength training",
         "rawType": "object",
         "type": "string"
        },
        {
         "name": "Abdominal strength training",
         "rawType": "object",
         "type": "string"
        },
        {
         "name": "Yoga",
         "rawType": "object",
         "type": "string"
        },
        {
         "name": "Stretching",
         "rawType": "object",
         "type": "string"
        },
        {
         "name": "Pilates",
         "rawType": "object",
         "type": "string"
        },
        {
         "name": "Other Exercise",
         "rawType": "object",
         "type": "string"
        },
        {
         "name": "Do you have a history of orthopedic injury?",
         "rawType": "object",
         "type": "string"
        },
        {
         "name": "Neck Injury",
         "rawType": "object",
         "type": "string"
        },
        {
         "name": "Back Injury",
         "rawType": "object",
         "type": "string"
        },
        {
         "name": "Shoulder Injury",
         "rawType": "object",
         "type": "string"
        },
        {
         "name": "Leg Injury",
         "rawType": "object",
         "type": "string"
        },
        {
         "name": "Arm Injury",
         "rawType": "object",
         "type": "string"
        },
        {
         "name": "Other Injury",
         "rawType": "object",
         "type": "string"
        },
        {
         "name": "Have you ever had surgery for orthopedic injury?",
         "rawType": "object",
         "type": "string"
        },
        {
         "name": "Do you have any chronic pain syndromes?",
         "rawType": "object",
         "type": "string"
        },
        {
         "name": "Neck Pain",
         "rawType": "object",
         "type": "string"
        },
        {
         "name": "Back Pain",
         "rawType": "object",
         "type": "string"
        },
        {
         "name": "Shoulder Pain",
         "rawType": "object",
         "type": "string"
        },
        {
         "name": "Arm Pain",
         "rawType": "object",
         "type": "string"
        },
        {
         "name": "Leg Pain",
         "rawType": "object",
         "type": "string"
        },
        {
         "name": "Other Pain",
         "rawType": "object",
         "type": "string"
        },
        {
         "name": "Complete?",
         "rawType": "object",
         "type": "string"
        }
       ],
       "conversionMethod": "pd.DataFrame",
       "ref": "5ba0a833-ee5d-473d-ac54-827e7849948b",
       "rows": [
        [
         "0",
         "1",
         "34",
         "Black African",
         "Not Hispanic or Latino",
         "female",
         "Interventional Fellow",
         "2.0",
         "65",
         "168",
         null,
         "two piece",
         "2-3 days a week",
         "Checked",
         "Checked",
         "Checked",
         "Checked",
         "Unchecked",
         "Checked",
         "Unchecked",
         "Unchecked",
         "No",
         "Unchecked",
         "Unchecked",
         "Unchecked",
         "Unchecked",
         "Unchecked",
         "Unchecked",
         "No",
         "No",
         "Unchecked",
         "Checked",
         "Checked",
         "Unchecked",
         "Unchecked",
         "Unchecked",
         "Complete"
        ],
        [
         "1",
         "2",
         "34",
         "White Middle Eastern",
         "Not Hispanic or Latino",
         "male",
         "Interventional Fellow",
         "2.0",
         "69",
         "145",
         null,
         "two piece",
         "2-3 days a week",
         "Checked",
         "Checked",
         "Checked",
         "Checked",
         "Unchecked",
         "Checked",
         "Unchecked",
         "Unchecked",
         "No",
         "Unchecked",
         "Unchecked",
         "Unchecked",
         "Unchecked",
         "Unchecked",
         "Unchecked",
         "No",
         "No",
         "Unchecked",
         "Unchecked",
         "Unchecked",
         "Unchecked",
         "Unchecked",
         "Unchecked",
         "Complete"
        ],
        [
         "2",
         "3",
         "35",
         "Caucasian",
         "Hispanic or Latino",
         "male",
         "Interventional Fellow",
         "4.0",
         "70",
         "170",
         null,
         "two piece",
         null,
         "Checked",
         "Unchecked",
         "Unchecked",
         "Unchecked",
         "Unchecked",
         "Unchecked",
         "Unchecked",
         "Unchecked",
         "No",
         "Unchecked",
         "Unchecked",
         "Unchecked",
         "Unchecked",
         "Unchecked",
         "Unchecked",
         "No",
         "No",
         "Unchecked",
         "Unchecked",
         "Unchecked",
         "Unchecked",
         "Unchecked",
         "Unchecked",
         "Complete"
        ],
        [
         "3",
         "4",
         "34",
         "South Asian",
         "Not Hispanic or Latino",
         "male",
         "Interventional Fellow",
         "5.0",
         "65",
         "180",
         null,
         "two piece",
         "2-3 days a week",
         "Checked",
         "Checked",
         "Checked",
         "Unchecked",
         "Unchecked",
         "Unchecked",
         "Unchecked",
         "Unchecked",
         "Yes",
         "Unchecked",
         "Unchecked",
         "Unchecked",
         "Unchecked",
         "Unchecked",
         "Checked",
         "Yes",
         "No",
         "Checked",
         "Checked",
         "Unchecked",
         "Unchecked",
         "Unchecked",
         "Unchecked",
         "Complete"
        ],
        [
         "4",
         "5",
         "33",
         "South Asian",
         "Not Hispanic or Latino",
         "male",
         "Interventional Fellow",
         "2.0",
         "68",
         "168",
         null,
         "two piece",
         "1-3 days a month",
         "Checked",
         "Checked",
         "Unchecked",
         "Unchecked",
         "Unchecked",
         "Unchecked",
         "Unchecked",
         "Unchecked",
         "No",
         "Unchecked",
         "Unchecked",
         "Unchecked",
         "Unchecked",
         "Unchecked",
         "Unchecked",
         "No",
         "No",
         "Unchecked",
         "Unchecked",
         "Unchecked",
         "Unchecked",
         "Unchecked",
         "Unchecked",
         "Complete"
        ]
       ],
       "shape": {
        "columns": 36,
        "rows": 5
       }
      },
      "text/html": [
       "<div>\n",
       "<style scoped>\n",
       "    .dataframe tbody tr th:only-of-type {\n",
       "        vertical-align: middle;\n",
       "    }\n",
       "\n",
       "    .dataframe tbody tr th {\n",
       "        vertical-align: top;\n",
       "    }\n",
       "\n",
       "    .dataframe thead th {\n",
       "        text-align: right;\n",
       "    }\n",
       "</style>\n",
       "<table border=\"1\" class=\"dataframe\">\n",
       "  <thead>\n",
       "    <tr style=\"text-align: right;\">\n",
       "      <th></th>\n",
       "      <th>Participant ID</th>\n",
       "      <th>Age</th>\n",
       "      <th>Race</th>\n",
       "      <th>Ethnicity</th>\n",
       "      <th>Gender</th>\n",
       "      <th>Role in cath lab</th>\n",
       "      <th>How many years has the participant worked in the cardiac catheterization laboratory?</th>\n",
       "      <th>Participant Height (in)</th>\n",
       "      <th>Participant Weight (lbs)</th>\n",
       "      <th>Weight of Lead (lbs)</th>\n",
       "      <th>...</th>\n",
       "      <th>Other Injury</th>\n",
       "      <th>Have you ever had surgery for orthopedic injury?</th>\n",
       "      <th>Do you have any chronic pain syndromes?</th>\n",
       "      <th>Neck Pain</th>\n",
       "      <th>Back Pain</th>\n",
       "      <th>Shoulder Pain</th>\n",
       "      <th>Arm Pain</th>\n",
       "      <th>Leg Pain</th>\n",
       "      <th>Other Pain</th>\n",
       "      <th>Complete?</th>\n",
       "    </tr>\n",
       "  </thead>\n",
       "  <tbody>\n",
       "    <tr>\n",
       "      <th>0</th>\n",
       "      <td>1</td>\n",
       "      <td>34</td>\n",
       "      <td>Black African</td>\n",
       "      <td>Not Hispanic or Latino</td>\n",
       "      <td>female</td>\n",
       "      <td>Interventional Fellow</td>\n",
       "      <td>2.0</td>\n",
       "      <td>65</td>\n",
       "      <td>168</td>\n",
       "      <td>NaN</td>\n",
       "      <td>...</td>\n",
       "      <td>Unchecked</td>\n",
       "      <td>No</td>\n",
       "      <td>No</td>\n",
       "      <td>Unchecked</td>\n",
       "      <td>Checked</td>\n",
       "      <td>Checked</td>\n",
       "      <td>Unchecked</td>\n",
       "      <td>Unchecked</td>\n",
       "      <td>Unchecked</td>\n",
       "      <td>Complete</td>\n",
       "    </tr>\n",
       "    <tr>\n",
       "      <th>1</th>\n",
       "      <td>2</td>\n",
       "      <td>34</td>\n",
       "      <td>White Middle Eastern</td>\n",
       "      <td>Not Hispanic or Latino</td>\n",
       "      <td>male</td>\n",
       "      <td>Interventional Fellow</td>\n",
       "      <td>2.0</td>\n",
       "      <td>69</td>\n",
       "      <td>145</td>\n",
       "      <td>NaN</td>\n",
       "      <td>...</td>\n",
       "      <td>Unchecked</td>\n",
       "      <td>No</td>\n",
       "      <td>No</td>\n",
       "      <td>Unchecked</td>\n",
       "      <td>Unchecked</td>\n",
       "      <td>Unchecked</td>\n",
       "      <td>Unchecked</td>\n",
       "      <td>Unchecked</td>\n",
       "      <td>Unchecked</td>\n",
       "      <td>Complete</td>\n",
       "    </tr>\n",
       "    <tr>\n",
       "      <th>2</th>\n",
       "      <td>3</td>\n",
       "      <td>35</td>\n",
       "      <td>Caucasian</td>\n",
       "      <td>Hispanic or Latino</td>\n",
       "      <td>male</td>\n",
       "      <td>Interventional Fellow</td>\n",
       "      <td>4.0</td>\n",
       "      <td>70</td>\n",
       "      <td>170</td>\n",
       "      <td>NaN</td>\n",
       "      <td>...</td>\n",
       "      <td>Unchecked</td>\n",
       "      <td>No</td>\n",
       "      <td>No</td>\n",
       "      <td>Unchecked</td>\n",
       "      <td>Unchecked</td>\n",
       "      <td>Unchecked</td>\n",
       "      <td>Unchecked</td>\n",
       "      <td>Unchecked</td>\n",
       "      <td>Unchecked</td>\n",
       "      <td>Complete</td>\n",
       "    </tr>\n",
       "    <tr>\n",
       "      <th>3</th>\n",
       "      <td>4</td>\n",
       "      <td>34</td>\n",
       "      <td>South Asian</td>\n",
       "      <td>Not Hispanic or Latino</td>\n",
       "      <td>male</td>\n",
       "      <td>Interventional Fellow</td>\n",
       "      <td>5.0</td>\n",
       "      <td>65</td>\n",
       "      <td>180</td>\n",
       "      <td>NaN</td>\n",
       "      <td>...</td>\n",
       "      <td>Checked</td>\n",
       "      <td>Yes</td>\n",
       "      <td>No</td>\n",
       "      <td>Checked</td>\n",
       "      <td>Checked</td>\n",
       "      <td>Unchecked</td>\n",
       "      <td>Unchecked</td>\n",
       "      <td>Unchecked</td>\n",
       "      <td>Unchecked</td>\n",
       "      <td>Complete</td>\n",
       "    </tr>\n",
       "    <tr>\n",
       "      <th>4</th>\n",
       "      <td>5</td>\n",
       "      <td>33</td>\n",
       "      <td>South Asian</td>\n",
       "      <td>Not Hispanic or Latino</td>\n",
       "      <td>male</td>\n",
       "      <td>Interventional Fellow</td>\n",
       "      <td>2.0</td>\n",
       "      <td>68</td>\n",
       "      <td>168</td>\n",
       "      <td>NaN</td>\n",
       "      <td>...</td>\n",
       "      <td>Unchecked</td>\n",
       "      <td>No</td>\n",
       "      <td>No</td>\n",
       "      <td>Unchecked</td>\n",
       "      <td>Unchecked</td>\n",
       "      <td>Unchecked</td>\n",
       "      <td>Unchecked</td>\n",
       "      <td>Unchecked</td>\n",
       "      <td>Unchecked</td>\n",
       "      <td>Complete</td>\n",
       "    </tr>\n",
       "  </tbody>\n",
       "</table>\n",
       "<p>5 rows × 36 columns</p>\n",
       "</div>"
      ],
      "text/plain": [
       "   Participant ID  Age                 Race               Ethnicity   Gender  \\\n",
       "0               1   34         Black African  Not Hispanic or Latino  female   \n",
       "1               2   34  White Middle Eastern  Not Hispanic or Latino    male   \n",
       "2               3   35             Caucasian      Hispanic or Latino    male   \n",
       "3               4   34           South Asian  Not Hispanic or Latino    male   \n",
       "4               5   33           South Asian  Not Hispanic or Latino    male   \n",
       "\n",
       "        Role in cath lab  \\\n",
       "0  Interventional Fellow   \n",
       "1  Interventional Fellow   \n",
       "2  Interventional Fellow   \n",
       "3  Interventional Fellow   \n",
       "4  Interventional Fellow   \n",
       "\n",
       "   How many years has the participant worked in the cardiac catheterization laboratory?  \\\n",
       "0                                                2.0                                      \n",
       "1                                                2.0                                      \n",
       "2                                                4.0                                      \n",
       "3                                                5.0                                      \n",
       "4                                                2.0                                      \n",
       "\n",
       "   Participant Height (in)  Participant Weight (lbs)  Weight of Lead (lbs)  \\\n",
       "0                       65                       168                   NaN   \n",
       "1                       69                       145                   NaN   \n",
       "2                       70                       170                   NaN   \n",
       "3                       65                       180                   NaN   \n",
       "4                       68                       168                   NaN   \n",
       "\n",
       "   ... Other Injury Have you ever had surgery for orthopedic injury?  \\\n",
       "0  ...    Unchecked                                               No   \n",
       "1  ...    Unchecked                                               No   \n",
       "2  ...    Unchecked                                               No   \n",
       "3  ...      Checked                                              Yes   \n",
       "4  ...    Unchecked                                               No   \n",
       "\n",
       "  Do you have any chronic pain syndromes?  Neck Pain  Back Pain Shoulder Pain  \\\n",
       "0                                      No  Unchecked    Checked       Checked   \n",
       "1                                      No  Unchecked  Unchecked     Unchecked   \n",
       "2                                      No  Unchecked  Unchecked     Unchecked   \n",
       "3                                      No    Checked    Checked     Unchecked   \n",
       "4                                      No  Unchecked  Unchecked     Unchecked   \n",
       "\n",
       "    Arm Pain   Leg Pain Other Pain Complete?  \n",
       "0  Unchecked  Unchecked  Unchecked  Complete  \n",
       "1  Unchecked  Unchecked  Unchecked  Complete  \n",
       "2  Unchecked  Unchecked  Unchecked  Complete  \n",
       "3  Unchecked  Unchecked  Unchecked  Complete  \n",
       "4  Unchecked  Unchecked  Unchecked  Complete  \n",
       "\n",
       "[5 rows x 36 columns]"
      ]
     },
     "execution_count": 5,
     "metadata": {},
     "output_type": "execute_result"
    }
   ],
   "source": [
    "# View the dataset\n",
    "demographic_data.head()"
   ]
  },
  {
   "cell_type": "markdown",
   "metadata": {},
   "source": [
    "First looking at race and ethnicity:"
   ]
  },
  {
   "cell_type": "code",
   "execution_count": 6,
   "metadata": {},
   "outputs": [
    {
     "data": {
      "text/plain": [
       "Race \n",
       "Caucasian               35.0\n",
       "South Asian             30.0\n",
       "White North American    15.0\n",
       "White Middle Eastern     5.0\n",
       "Black African            5.0\n",
       "White European           5.0\n",
       "Asian-East               5.0\n",
       "Name: proportion, dtype: float64"
      ]
     },
     "execution_count": 6,
     "metadata": {},
     "output_type": "execute_result"
    }
   ],
   "source": [
    "# Percentage values of race\n",
    "demographic_data['Race '].value_counts(normalize=True) * 100"
   ]
  },
  {
   "cell_type": "code",
   "execution_count": 7,
   "metadata": {},
   "outputs": [
    {
     "data": {
      "text/plain": [
       "Ethnicity \n",
       "Not Hispanic or Latino    90.0\n",
       "Hispanic or Latino        10.0\n",
       "Name: proportion, dtype: float64"
      ]
     },
     "execution_count": 7,
     "metadata": {},
     "output_type": "execute_result"
    }
   ],
   "source": [
    "# Percentages of ethnicity\n",
    "demographic_data['Ethnicity '].value_counts(normalize=True) * 100"
   ]
  },
  {
   "cell_type": "markdown",
   "metadata": {},
   "source": [
    "Now looking at the average ages:"
   ]
  },
  {
   "cell_type": "code",
   "execution_count": 8,
   "metadata": {},
   "outputs": [
    {
     "data": {
      "text/plain": [
       "count    20.000000\n",
       "mean     41.100000\n",
       "std       9.480728\n",
       "min      31.000000\n",
       "25%      34.000000\n",
       "50%      37.500000\n",
       "75%      47.500000\n",
       "max      62.000000\n",
       "Name: Age, dtype: float64"
      ]
     },
     "execution_count": 8,
     "metadata": {},
     "output_type": "execute_result"
    }
   ],
   "source": [
    "# Calculate the descriptive statistics of age\n",
    "demographic_data['Age'].describe()"
   ]
  },
  {
   "cell_type": "markdown",
   "metadata": {},
   "source": [
    "Distribution of Male vs. Female:"
   ]
  },
  {
   "cell_type": "code",
   "execution_count": 9,
   "metadata": {},
   "outputs": [
    {
     "data": {
      "text/plain": [
       "Gender\n",
       "male      60.0\n",
       "female    40.0\n",
       "Name: proportion, dtype: float64"
      ]
     },
     "execution_count": 9,
     "metadata": {},
     "output_type": "execute_result"
    }
   ],
   "source": [
    "# What are the percentages of male vs. female participants?\n",
    "demographic_data['Gender'].value_counts(normalize=True) * 100"
   ]
  },
  {
   "cell_type": "markdown",
   "metadata": {},
   "source": [
    "Role in cath lab:"
   ]
  },
  {
   "cell_type": "code",
   "execution_count": 10,
   "metadata": {},
   "outputs": [
    {
     "data": {
      "text/plain": [
       "Role in cath lab\n",
       "Interventional Fellow    45.0\n",
       "Attending                30.0\n",
       "Physician Assistant      20.0\n",
       "General Fellow            5.0\n",
       "Name: proportion, dtype: float64"
      ]
     },
     "execution_count": 10,
     "metadata": {},
     "output_type": "execute_result"
    }
   ],
   "source": [
    "# Percentages of the roles in cath lab\n",
    "demographic_data['Role in cath lab'].value_counts(normalize=True) * 100"
   ]
  },
  {
   "cell_type": "markdown",
   "metadata": {},
   "source": [
    "BMI:"
   ]
  },
  {
   "cell_type": "code",
   "execution_count": 11,
   "metadata": {},
   "outputs": [
    {
     "data": {
      "text/plain": [
       "count    20.000000\n",
       "mean     26.276977\n",
       "std       4.326379\n",
       "min      19.739486\n",
       "25%      22.685912\n",
       "50%      26.019943\n",
       "75%      29.373392\n",
       "max      33.281373\n",
       "Name: BMI, dtype: float64"
      ]
     },
     "execution_count": 11,
     "metadata": {},
     "output_type": "execute_result"
    }
   ],
   "source": [
    "# Convert height from inches to meters and weight from pounds to kilograms\n",
    "demographic_data['Height_m'] = demographic_data['Participant Height (in)'] * 0.0254\n",
    "demographic_data['Weight_kg'] = demographic_data['Participant Weight (lbs)'] * 0.453592\n",
    "\n",
    "# Calculate BMI\n",
    "demographic_data['BMI'] = demographic_data['Weight_kg'] / (demographic_data['Height_m'] ** 2)\n",
    "\n",
    "# Descriptive Statistcs BMI\n",
    "demographic_data['BMI'].describe()"
   ]
  },
  {
   "cell_type": "markdown",
   "metadata": {},
   "source": [
    "Years worked:"
   ]
  },
  {
   "cell_type": "code",
   "execution_count": 12,
   "metadata": {},
   "outputs": [
    {
     "data": {
      "text/plain": [
       "count    17.000000\n",
       "mean      6.235294\n",
       "std       7.258869\n",
       "min       1.000000\n",
       "25%       2.000000\n",
       "50%       3.000000\n",
       "75%       6.000000\n",
       "max      25.000000\n",
       "Name: How many years has the participant worked in the cardiac catheterization laboratory?, dtype: float64"
      ]
     },
     "execution_count": 12,
     "metadata": {},
     "output_type": "execute_result"
    }
   ],
   "source": [
    "# calculate summary stats for the years worked in the cath lab\n",
    "demographic_data['How many years has the participant worked in the cardiac catheterization laboratory?'].describe()"
   ]
  },
  {
   "cell_type": "markdown",
   "metadata": {},
   "source": [
    "Exercise status:"
   ]
  },
  {
   "cell_type": "code",
   "execution_count": 13,
   "metadata": {},
   "outputs": [
    {
     "data": {
      "text/plain": [
       "Do you exercise...\n",
       "2-3 days a week     52.631579\n",
       "1-3 days a month    15.789474\n",
       "4+ days a week      15.789474\n",
       "1 day a week        10.526316\n",
       "Not at all           5.263158\n",
       "Name: proportion, dtype: float64"
      ]
     },
     "execution_count": 13,
     "metadata": {},
     "output_type": "execute_result"
    }
   ],
   "source": [
    "# calculate percentages for exercise\n",
    "demographic_data['Do you exercise...'].value_counts(normalize=True) * 100"
   ]
  },
  {
   "cell_type": "code",
   "execution_count": 14,
   "metadata": {},
   "outputs": [
    {
     "data": {
      "text/plain": [
       "Cardio     Upper Body Strength Training  Lower body strength training  Abdominal strength training  Yoga       Stretching  Pilates    Other Exercise\n",
       "Checked    Unchecked                     Unchecked                     Unchecked                    Unchecked  Unchecked   Unchecked  Unchecked         25.0\n",
       "           Checked                       Checked                       Checked                      Unchecked  Checked     Unchecked  Unchecked         15.0\n",
       "                                                                                                               Unchecked   Unchecked  Unchecked         10.0\n",
       "                                                                       Unchecked                    Unchecked  Unchecked   Unchecked  Unchecked          5.0\n",
       "                                                                       Checked                      Checked    Unchecked   Unchecked  Unchecked          5.0\n",
       "                                         Unchecked                     Checked                      Unchecked  Unchecked   Unchecked  Unchecked          5.0\n",
       "                                                                       Unchecked                    Unchecked  Unchecked   Unchecked  Unchecked          5.0\n",
       "           Unchecked                     Unchecked                     Unchecked                    Checked    Unchecked   Unchecked  Checked            5.0\n",
       "                                                                       Checked                      Unchecked  Unchecked   Unchecked  Unchecked          5.0\n",
       "                                                                       Unchecked                    Unchecked  Checked     Unchecked  Unchecked          5.0\n",
       "Unchecked  Checked                       Checked                       Checked                      Unchecked  Unchecked   Unchecked  Unchecked          5.0\n",
       "                                                                       Unchecked                    Checked    Checked     Unchecked  Unchecked          5.0\n",
       "           Unchecked                     Unchecked                     Unchecked                    Unchecked  Unchecked   Unchecked  Unchecked          5.0\n",
       "Name: proportion, dtype: float64"
      ]
     },
     "execution_count": 14,
     "metadata": {},
     "output_type": "execute_result"
    }
   ],
   "source": [
    "# Types of exercise:\n",
    "types_exercise = ['Cardio', 'Upper Body Strength Training',\n",
    "       'Lower body strength training', 'Abdominal strength training', 'Yoga',\n",
    "       'Stretching', 'Pilates', 'Other Exercise']\n",
    "# Calculate the percentages for each of the columns\n",
    "demographic_data[types_exercise].value_counts(normalize=True) * 100"
   ]
  },
  {
   "cell_type": "markdown",
   "metadata": {},
   "source": [
    "Orthopedic injuries:"
   ]
  },
  {
   "cell_type": "code",
   "execution_count": 15,
   "metadata": {},
   "outputs": [
    {
     "data": {
      "text/plain": [
       "Do you have a history of orthopedic injury?\n",
       "No     65.0\n",
       "Yes    35.0\n",
       "Name: proportion, dtype: float64"
      ]
     },
     "execution_count": 15,
     "metadata": {},
     "output_type": "execute_result"
    }
   ],
   "source": [
    "# History of Orthopedic Injuries\n",
    "demographic_data['Do you have a history of orthopedic injury?'].value_counts(normalize=True) * 100"
   ]
  },
  {
   "cell_type": "code",
   "execution_count": 16,
   "metadata": {},
   "outputs": [
    {
     "data": {
      "text/plain": [
       "Neck Injury  Back Injury  Shoulder Injury  Leg Injury  Arm Injury  Other Injury  Have you ever had surgery for orthopedic injury?\n",
       "Unchecked    Unchecked    Unchecked        Unchecked   Unchecked   Unchecked     No                                                  65.0\n",
       "                                           Checked     Unchecked   Unchecked     Yes                                                 10.0\n",
       "             Checked      Unchecked        Unchecked   Unchecked   Unchecked     No                                                   5.0\n",
       "             Unchecked    Checked          Unchecked   Unchecked   Unchecked     No                                                   5.0\n",
       "             Checked      Unchecked        Unchecked   Unchecked   Unchecked     Yes                                                  5.0\n",
       "             Unchecked    Unchecked        Checked     Checked     Unchecked     No                                                   5.0\n",
       "                                           Unchecked   Unchecked   Checked       Yes                                                  5.0\n",
       "Name: proportion, dtype: float64"
      ]
     },
     "execution_count": 16,
     "metadata": {},
     "output_type": "execute_result"
    }
   ],
   "source": [
    "# Columns for orthopedic injury types:\n",
    "type_orthopedics = ['Neck Injury',\n",
    "       'Back Injury', 'Shoulder Injury', 'Leg Injury', 'Arm Injury',\n",
    "       'Other Injury','Have you ever had surgery for orthopedic injury?']\n",
    "# Calculate the percentages for each of the columns\n",
    "demographic_data[type_orthopedics].value_counts(normalize=True) * 100"
   ]
  },
  {
   "cell_type": "markdown",
   "metadata": {},
   "source": [
    "Chronic Pain syndromes:"
   ]
  },
  {
   "cell_type": "code",
   "execution_count": 17,
   "metadata": {},
   "outputs": [
    {
     "data": {
      "text/plain": [
       "Do you have any chronic pain syndromes?\n",
       "No     95.0\n",
       "Yes     5.0\n",
       "Name: proportion, dtype: float64"
      ]
     },
     "execution_count": 17,
     "metadata": {},
     "output_type": "execute_result"
    }
   ],
   "source": [
    "# History of chronic pain\n",
    "demographic_data['Do you have any chronic pain syndromes?'].value_counts(normalize=True) * 100"
   ]
  },
  {
   "cell_type": "code",
   "execution_count": 18,
   "metadata": {},
   "outputs": [
    {
     "data": {
      "text/plain": [
       "Neck Pain  Back Pain  Shoulder Pain  Arm Pain   Leg Pain   Other Pain\n",
       "Unchecked  Unchecked  Unchecked      Unchecked  Unchecked  Unchecked     55.0\n",
       "           Checked    Unchecked      Unchecked  Unchecked  Unchecked     15.0\n",
       "                      Checked        Unchecked  Unchecked  Unchecked     10.0\n",
       "Checked    Unchecked  Unchecked      Unchecked  Unchecked  Unchecked      5.0\n",
       "                      Checked        Unchecked  Unchecked  Unchecked      5.0\n",
       "           Checked    Unchecked      Unchecked  Unchecked  Unchecked      5.0\n",
       "Unchecked  Checked    Checked        Unchecked  Checked    Unchecked      5.0\n",
       "Name: proportion, dtype: float64"
      ]
     },
     "execution_count": 18,
     "metadata": {},
     "output_type": "execute_result"
    }
   ],
   "source": [
    "# Columns for chronic pain types:\n",
    "type_pain = ['Neck Pain', 'Back Pain',\n",
    "       'Shoulder Pain', 'Arm Pain', 'Leg Pain', 'Other Pain']\n",
    "# Calculate the percentages for each of the columns\n",
    "demographic_data[type_pain].value_counts(normalize=True) * 100"
   ]
  },
  {
   "cell_type": "markdown",
   "metadata": {},
   "source": [
    "### 2. Case Data:"
   ]
  },
  {
   "cell_type": "code",
   "execution_count": 19,
   "metadata": {},
   "outputs": [],
   "source": [
    "operators_case_list = [ '1_001', '2_001', '4_001', '2_002', '3_002', \n",
    "    '1_003', '2_003', '4_003',             \n",
    "    '1_004', '2_004', '3_005', '5_005', '1_006',\n",
    "    '2_006', '1_007', '2_007', '2_008', '3_008',\n",
    "    '2_019', '3_019', '1_020','2_020', '1_021','2_021',\n",
    "    '1_022', '4_022', '1_023',\n",
    "    '2_023', '1_024','2_024', '1_026', '2_026','1_027',\n",
    "    '1_028', '2_028', '1_029', '2_029',\n",
    "    '2_030', '3_030', '2_031',    '3_001','6_001', '1_002',\n",
    "    '4_002', '3_004', '4_004', '1_005', '4_005',\n",
    "    '3_006', '4_006', '3_007', '4_007', '1_008',\n",
    "    '4_008', '1_019', '4_019', '2_022', '3_022', '4_023',\n",
    "    '1_030', '1_031']"
   ]
  },
  {
   "cell_type": "code",
   "execution_count": 20,
   "metadata": {},
   "outputs": [],
   "source": [
    "case_data = case_data[case_data['Participant ID'].isin(operators_case_list)]"
   ]
  },
  {
   "cell_type": "code",
   "execution_count": 21,
   "metadata": {},
   "outputs": [
    {
     "data": {
      "application/vnd.microsoft.datawrangler.viewer.v0+json": {
       "columns": [
        {
         "name": "index",
         "rawType": "int64",
         "type": "integer"
        },
        {
         "name": "Participant ID",
         "rawType": "object",
         "type": "string"
        },
        {
         "name": "Age",
         "rawType": "int64",
         "type": "integer"
        },
        {
         "name": "Race ",
         "rawType": "object",
         "type": "string"
        },
        {
         "name": "Ethnicity ",
         "rawType": "object",
         "type": "string"
        },
        {
         "name": "Gender",
         "rawType": "object",
         "type": "string"
        },
        {
         "name": "Role in cath lab",
         "rawType": "object",
         "type": "string"
        },
        {
         "name": "How many years has the participant worked in the cardiac catheterization laboratory?",
         "rawType": "float64",
         "type": "float"
        },
        {
         "name": "Participant Height (in)",
         "rawType": "int64",
         "type": "integer"
        },
        {
         "name": "Participant Weight (lbs)",
         "rawType": "int64",
         "type": "integer"
        },
        {
         "name": "Weight of Lead (lbs)",
         "rawType": "float64",
         "type": "float"
        },
        {
         "name": "Is the lead...",
         "rawType": "object",
         "type": "string"
        },
        {
         "name": "Do you exercise...",
         "rawType": "object",
         "type": "string"
        },
        {
         "name": "Cardio",
         "rawType": "object",
         "type": "string"
        },
        {
         "name": "Upper Body Strength Training",
         "rawType": "object",
         "type": "string"
        },
        {
         "name": "Lower body strength training",
         "rawType": "object",
         "type": "string"
        },
        {
         "name": "Abdominal strength training",
         "rawType": "object",
         "type": "string"
        },
        {
         "name": "Yoga",
         "rawType": "object",
         "type": "string"
        },
        {
         "name": "Stretching",
         "rawType": "object",
         "type": "string"
        },
        {
         "name": "Pilates",
         "rawType": "object",
         "type": "string"
        },
        {
         "name": "Other Exercise",
         "rawType": "object",
         "type": "string"
        },
        {
         "name": "Do you have a history of orthopedic injury?",
         "rawType": "object",
         "type": "string"
        },
        {
         "name": "Neck Injury",
         "rawType": "object",
         "type": "string"
        },
        {
         "name": "Back Injury",
         "rawType": "object",
         "type": "string"
        },
        {
         "name": "Shoulder Injury",
         "rawType": "object",
         "type": "string"
        },
        {
         "name": "Leg Injury",
         "rawType": "object",
         "type": "string"
        },
        {
         "name": "Arm Injury",
         "rawType": "object",
         "type": "string"
        },
        {
         "name": "Other Injury",
         "rawType": "object",
         "type": "string"
        },
        {
         "name": "Have you ever had surgery for orthopedic injury?",
         "rawType": "object",
         "type": "string"
        },
        {
         "name": "Do you have any chronic pain syndromes?",
         "rawType": "object",
         "type": "string"
        },
        {
         "name": "Neck Pain",
         "rawType": "object",
         "type": "string"
        },
        {
         "name": "Back Pain",
         "rawType": "object",
         "type": "string"
        },
        {
         "name": "Shoulder Pain",
         "rawType": "object",
         "type": "string"
        },
        {
         "name": "Arm Pain",
         "rawType": "object",
         "type": "string"
        },
        {
         "name": "Leg Pain",
         "rawType": "object",
         "type": "string"
        },
        {
         "name": "Other Pain",
         "rawType": "object",
         "type": "string"
        },
        {
         "name": "Date of Case",
         "rawType": "object",
         "type": "string"
        },
        {
         "name": "Case Number for the day",
         "rawType": "object",
         "type": "string"
        },
        {
         "name": "Case being done...",
         "rawType": "object",
         "type": "string"
        },
        {
         "name": "Participant wearing...",
         "rawType": "object",
         "type": "string"
        },
        {
         "name": "Is participant a technologist?",
         "rawType": "object",
         "type": "string"
        },
        {
         "name": "Is the tech...",
         "rawType": "object",
         "type": "unknown"
        },
        {
         "name": "How many hours of sleep did participant have the night before",
         "rawType": "float64",
         "type": "float"
        },
        {
         "name": "Right Radial",
         "rawType": "object",
         "type": "string"
        },
        {
         "name": "Left Radial",
         "rawType": "object",
         "type": "string"
        },
        {
         "name": "Right Femoral",
         "rawType": "object",
         "type": "string"
        },
        {
         "name": "Left Femoral",
         "rawType": "object",
         "type": "string"
        },
        {
         "name": "Right Jugular",
         "rawType": "object",
         "type": "string"
        },
        {
         "name": "Left Jugular",
         "rawType": "object",
         "type": "string"
        },
        {
         "name": "Right Brachial Vein",
         "rawType": "object",
         "type": "string"
        },
        {
         "name": "Left Brachial Vein",
         "rawType": "object",
         "type": "string"
        },
        {
         "name": "Type of Case",
         "rawType": "object",
         "type": "string"
        },
        {
         "name": "Total case length in minutes (first lidocaine injection - sheath removal)",
         "rawType": "int64",
         "type": "integer"
        },
        {
         "name": "Total radiation (mGy) from procedure log",
         "rawType": "float64",
         "type": "float"
        },
        {
         "name": "Participant radiation (mrem)",
         "rawType": "float64",
         "type": "float"
        },
        {
         "name": "Control Radiation (mrem)",
         "rawType": "float64",
         "type": "float"
        },
        {
         "name": "Total contrast (mL)",
         "rawType": "float64",
         "type": "float"
        },
        {
         "name": "Muscular Discomfort Scale Completed?",
         "rawType": "object",
         "type": "string"
        },
        {
         "name": "Sensor/ Data Malfunctions during case",
         "rawType": "object",
         "type": "unknown"
        },
        {
         "name": "Comments",
         "rawType": "object",
         "type": "unknown"
        },
        {
         "name": "Complete?",
         "rawType": "object",
         "type": "string"
        }
       ],
       "conversionMethod": "pd.DataFrame",
       "ref": "b116ab46-8d4b-4184-a1c8-2008393c2aeb",
       "rows": [
        [
         "0",
         "1_001",
         "34",
         "Black African",
         "Not Hispanic or Latino",
         "female",
         "Interventional Fellow",
         "2.0",
         "65",
         "168",
         null,
         "two piece",
         "2-3 days a week",
         "Checked",
         "Checked",
         "Checked",
         "Checked",
         "Unchecked",
         "Checked",
         "Unchecked",
         "Unchecked",
         "No",
         "Unchecked",
         "Unchecked",
         "Unchecked",
         "Unchecked",
         "Unchecked",
         "Unchecked",
         "No",
         "No",
         "Unchecked",
         "Checked",
         "Checked",
         "Unchecked",
         "Unchecked",
         "Unchecked",
         "6/6/2024",
         "First",
         "Without Rampart shield",
         "lead",
         "No",
         null,
         "3.0",
         "Unchecked",
         "Checked",
         "Unchecked",
         "Unchecked",
         "Unchecked",
         "Unchecked",
         "Unchecked",
         "Unchecked",
         "Coronary Arteriogram w/ no intervention",
         "36",
         "456.0",
         "0.6",
         "61.9",
         "70.0",
         "Yes",
         "none",
         "ROM data taken from this case",
         "Complete"
        ],
        [
         "1",
         "2_001",
         "34",
         "Black African",
         "Not Hispanic or Latino",
         "female",
         "Interventional Fellow",
         "2.0",
         "65",
         "168",
         null,
         "two piece",
         "2-3 days a week",
         "Checked",
         "Checked",
         "Checked",
         "Checked",
         "Unchecked",
         "Checked",
         "Unchecked",
         "Unchecked",
         "No",
         "Unchecked",
         "Unchecked",
         "Unchecked",
         "Unchecked",
         "Unchecked",
         "Unchecked",
         "No",
         "No",
         "Unchecked",
         "Checked",
         "Checked",
         "Unchecked",
         "Unchecked",
         "Unchecked",
         "6/6/2024",
         "Second",
         "Without Rampart shield",
         "lead",
         "No",
         null,
         "3.0",
         "Checked",
         "Unchecked",
         "Unchecked",
         "Unchecked",
         "Unchecked",
         "Unchecked",
         "Unchecked",
         "Unchecked",
         "Coronary Arteriogram w/ no intervention",
         "44",
         "331.0",
         "0.0",
         "18.3",
         "90.0",
         "Yes",
         null,
         null,
         "Complete"
        ],
        [
         "2",
         "3_001",
         "34",
         "Black African",
         "Not Hispanic or Latino",
         "female",
         "Interventional Fellow",
         "2.0",
         "65",
         "168",
         null,
         "two piece",
         "2-3 days a week",
         "Checked",
         "Checked",
         "Checked",
         "Checked",
         "Unchecked",
         "Checked",
         "Unchecked",
         "Unchecked",
         "No",
         "Unchecked",
         "Unchecked",
         "Unchecked",
         "Unchecked",
         "Unchecked",
         "Unchecked",
         "No",
         "No",
         "Unchecked",
         "Checked",
         "Checked",
         "Unchecked",
         "Unchecked",
         "Unchecked",
         "6/6/2024",
         "Third",
         "With Rampart shield",
         "no lead",
         "No",
         null,
         "3.0",
         "Unchecked",
         "Checked",
         "Unchecked",
         "Unchecked",
         "Unchecked",
         "Unchecked",
         "Unchecked",
         "Unchecked",
         "Complex PCI",
         "283",
         "4276.7",
         "0.5",
         "569.8",
         "190.0",
         "Yes",
         "Database stopped recording at ** time. Began recording again. EMG's all ran out of power at ** time. ",
         null,
         "Complete"
        ],
        [
         "3",
         "4_001",
         "34",
         "Black African",
         "Not Hispanic or Latino",
         "female",
         "Interventional Fellow",
         "2.0",
         "65",
         "168",
         null,
         "two piece",
         "2-3 days a week",
         "Checked",
         "Checked",
         "Checked",
         "Checked",
         "Unchecked",
         "Checked",
         "Unchecked",
         "Unchecked",
         "No",
         "Unchecked",
         "Unchecked",
         "Unchecked",
         "Unchecked",
         "Unchecked",
         "Unchecked",
         "No",
         "No",
         "Unchecked",
         "Checked",
         "Checked",
         "Unchecked",
         "Unchecked",
         "Unchecked",
         "6/10/2024",
         "First",
         "With Rampart shield",
         "lead",
         "No",
         null,
         "6.0",
         "Unchecked",
         "Checked",
         "Unchecked",
         "Unchecked",
         "Unchecked",
         "Unchecked",
         "Unchecked",
         "Unchecked",
         "Coronary Arteriogram w/ no intervention",
         "52",
         "798.6",
         null,
         "61.0",
         "75.0",
         "Yes",
         "participant wearing radiation sensor under lead - no data gathered",
         null,
         "Complete"
        ],
        [
         "5",
         "6_001",
         "34",
         "Black African",
         "Not Hispanic or Latino",
         "female",
         "Interventional Fellow",
         "2.0",
         "65",
         "168",
         null,
         "two piece",
         "2-3 days a week",
         "Checked",
         "Checked",
         "Checked",
         "Checked",
         "Unchecked",
         "Checked",
         "Unchecked",
         "Unchecked",
         "No",
         "Unchecked",
         "Unchecked",
         "Unchecked",
         "Unchecked",
         "Unchecked",
         "Unchecked",
         "No",
         "No",
         "Unchecked",
         "Checked",
         "Checked",
         "Unchecked",
         "Unchecked",
         "Unchecked",
         "6/11/2024",
         "First",
         "With Rampart shield",
         "no lead",
         "No",
         null,
         "6.0",
         "Checked",
         "Unchecked",
         "Checked",
         "Unchecked",
         "Unchecked",
         "Unchecked",
         "Unchecked",
         "Unchecked",
         "CTO PCI",
         "223",
         "3668.8",
         "0.3",
         "95.0",
         "300.0",
         "Yes",
         null,
         null,
         "Complete"
        ]
       ],
       "shape": {
        "columns": 60,
        "rows": 5
       }
      },
      "text/html": [
       "<div>\n",
       "<style scoped>\n",
       "    .dataframe tbody tr th:only-of-type {\n",
       "        vertical-align: middle;\n",
       "    }\n",
       "\n",
       "    .dataframe tbody tr th {\n",
       "        vertical-align: top;\n",
       "    }\n",
       "\n",
       "    .dataframe thead th {\n",
       "        text-align: right;\n",
       "    }\n",
       "</style>\n",
       "<table border=\"1\" class=\"dataframe\">\n",
       "  <thead>\n",
       "    <tr style=\"text-align: right;\">\n",
       "      <th></th>\n",
       "      <th>Participant ID</th>\n",
       "      <th>Age</th>\n",
       "      <th>Race</th>\n",
       "      <th>Ethnicity</th>\n",
       "      <th>Gender</th>\n",
       "      <th>Role in cath lab</th>\n",
       "      <th>How many years has the participant worked in the cardiac catheterization laboratory?</th>\n",
       "      <th>Participant Height (in)</th>\n",
       "      <th>Participant Weight (lbs)</th>\n",
       "      <th>Weight of Lead (lbs)</th>\n",
       "      <th>...</th>\n",
       "      <th>Type of Case</th>\n",
       "      <th>Total case length in minutes (first lidocaine injection - sheath removal)</th>\n",
       "      <th>Total radiation (mGy) from procedure log</th>\n",
       "      <th>Participant radiation (mrem)</th>\n",
       "      <th>Control Radiation (mrem)</th>\n",
       "      <th>Total contrast (mL)</th>\n",
       "      <th>Muscular Discomfort Scale Completed?</th>\n",
       "      <th>Sensor/ Data Malfunctions during case</th>\n",
       "      <th>Comments</th>\n",
       "      <th>Complete?</th>\n",
       "    </tr>\n",
       "  </thead>\n",
       "  <tbody>\n",
       "    <tr>\n",
       "      <th>0</th>\n",
       "      <td>1_001</td>\n",
       "      <td>34</td>\n",
       "      <td>Black African</td>\n",
       "      <td>Not Hispanic or Latino</td>\n",
       "      <td>female</td>\n",
       "      <td>Interventional Fellow</td>\n",
       "      <td>2.0</td>\n",
       "      <td>65</td>\n",
       "      <td>168</td>\n",
       "      <td>NaN</td>\n",
       "      <td>...</td>\n",
       "      <td>Coronary Arteriogram w/ no intervention</td>\n",
       "      <td>36</td>\n",
       "      <td>456.0</td>\n",
       "      <td>0.6</td>\n",
       "      <td>61.9</td>\n",
       "      <td>70.0</td>\n",
       "      <td>Yes</td>\n",
       "      <td>none</td>\n",
       "      <td>ROM data taken from this case</td>\n",
       "      <td>Complete</td>\n",
       "    </tr>\n",
       "    <tr>\n",
       "      <th>1</th>\n",
       "      <td>2_001</td>\n",
       "      <td>34</td>\n",
       "      <td>Black African</td>\n",
       "      <td>Not Hispanic or Latino</td>\n",
       "      <td>female</td>\n",
       "      <td>Interventional Fellow</td>\n",
       "      <td>2.0</td>\n",
       "      <td>65</td>\n",
       "      <td>168</td>\n",
       "      <td>NaN</td>\n",
       "      <td>...</td>\n",
       "      <td>Coronary Arteriogram w/ no intervention</td>\n",
       "      <td>44</td>\n",
       "      <td>331.0</td>\n",
       "      <td>0.0</td>\n",
       "      <td>18.3</td>\n",
       "      <td>90.0</td>\n",
       "      <td>Yes</td>\n",
       "      <td>NaN</td>\n",
       "      <td>NaN</td>\n",
       "      <td>Complete</td>\n",
       "    </tr>\n",
       "    <tr>\n",
       "      <th>2</th>\n",
       "      <td>3_001</td>\n",
       "      <td>34</td>\n",
       "      <td>Black African</td>\n",
       "      <td>Not Hispanic or Latino</td>\n",
       "      <td>female</td>\n",
       "      <td>Interventional Fellow</td>\n",
       "      <td>2.0</td>\n",
       "      <td>65</td>\n",
       "      <td>168</td>\n",
       "      <td>NaN</td>\n",
       "      <td>...</td>\n",
       "      <td>Complex PCI</td>\n",
       "      <td>283</td>\n",
       "      <td>4276.7</td>\n",
       "      <td>0.5</td>\n",
       "      <td>569.8</td>\n",
       "      <td>190.0</td>\n",
       "      <td>Yes</td>\n",
       "      <td>Database stopped recording at ** time. Began r...</td>\n",
       "      <td>NaN</td>\n",
       "      <td>Complete</td>\n",
       "    </tr>\n",
       "    <tr>\n",
       "      <th>3</th>\n",
       "      <td>4_001</td>\n",
       "      <td>34</td>\n",
       "      <td>Black African</td>\n",
       "      <td>Not Hispanic or Latino</td>\n",
       "      <td>female</td>\n",
       "      <td>Interventional Fellow</td>\n",
       "      <td>2.0</td>\n",
       "      <td>65</td>\n",
       "      <td>168</td>\n",
       "      <td>NaN</td>\n",
       "      <td>...</td>\n",
       "      <td>Coronary Arteriogram w/ no intervention</td>\n",
       "      <td>52</td>\n",
       "      <td>798.6</td>\n",
       "      <td>NaN</td>\n",
       "      <td>61.0</td>\n",
       "      <td>75.0</td>\n",
       "      <td>Yes</td>\n",
       "      <td>participant wearing radiation sensor under lea...</td>\n",
       "      <td>NaN</td>\n",
       "      <td>Complete</td>\n",
       "    </tr>\n",
       "    <tr>\n",
       "      <th>5</th>\n",
       "      <td>6_001</td>\n",
       "      <td>34</td>\n",
       "      <td>Black African</td>\n",
       "      <td>Not Hispanic or Latino</td>\n",
       "      <td>female</td>\n",
       "      <td>Interventional Fellow</td>\n",
       "      <td>2.0</td>\n",
       "      <td>65</td>\n",
       "      <td>168</td>\n",
       "      <td>NaN</td>\n",
       "      <td>...</td>\n",
       "      <td>CTO PCI</td>\n",
       "      <td>223</td>\n",
       "      <td>3668.8</td>\n",
       "      <td>0.3</td>\n",
       "      <td>95.0</td>\n",
       "      <td>300.0</td>\n",
       "      <td>Yes</td>\n",
       "      <td>NaN</td>\n",
       "      <td>NaN</td>\n",
       "      <td>Complete</td>\n",
       "    </tr>\n",
       "  </tbody>\n",
       "</table>\n",
       "<p>5 rows × 60 columns</p>\n",
       "</div>"
      ],
      "text/plain": [
       "  Participant ID  Age          Race               Ethnicity   Gender  \\\n",
       "0          1_001   34  Black African  Not Hispanic or Latino  female   \n",
       "1          2_001   34  Black African  Not Hispanic or Latino  female   \n",
       "2          3_001   34  Black African  Not Hispanic or Latino  female   \n",
       "3          4_001   34  Black African  Not Hispanic or Latino  female   \n",
       "5          6_001   34  Black African  Not Hispanic or Latino  female   \n",
       "\n",
       "        Role in cath lab  \\\n",
       "0  Interventional Fellow   \n",
       "1  Interventional Fellow   \n",
       "2  Interventional Fellow   \n",
       "3  Interventional Fellow   \n",
       "5  Interventional Fellow   \n",
       "\n",
       "   How many years has the participant worked in the cardiac catheterization laboratory?  \\\n",
       "0                                                2.0                                      \n",
       "1                                                2.0                                      \n",
       "2                                                2.0                                      \n",
       "3                                                2.0                                      \n",
       "5                                                2.0                                      \n",
       "\n",
       "   Participant Height (in)  Participant Weight (lbs)  Weight of Lead (lbs)  \\\n",
       "0                       65                       168                   NaN   \n",
       "1                       65                       168                   NaN   \n",
       "2                       65                       168                   NaN   \n",
       "3                       65                       168                   NaN   \n",
       "5                       65                       168                   NaN   \n",
       "\n",
       "   ...                             Type of Case  \\\n",
       "0  ...  Coronary Arteriogram w/ no intervention   \n",
       "1  ...  Coronary Arteriogram w/ no intervention   \n",
       "2  ...                              Complex PCI   \n",
       "3  ...  Coronary Arteriogram w/ no intervention   \n",
       "5  ...                                  CTO PCI   \n",
       "\n",
       "  Total case length in minutes (first lidocaine injection - sheath removal)  \\\n",
       "0                                                 36                          \n",
       "1                                                 44                          \n",
       "2                                                283                          \n",
       "3                                                 52                          \n",
       "5                                                223                          \n",
       "\n",
       "  Total radiation (mGy) from procedure log Participant radiation (mrem)  \\\n",
       "0                                    456.0                          0.6   \n",
       "1                                    331.0                          0.0   \n",
       "2                                   4276.7                          0.5   \n",
       "3                                    798.6                          NaN   \n",
       "5                                   3668.8                          0.3   \n",
       "\n",
       "  Control Radiation (mrem) Total contrast (mL)  \\\n",
       "0                     61.9                70.0   \n",
       "1                     18.3                90.0   \n",
       "2                    569.8               190.0   \n",
       "3                     61.0                75.0   \n",
       "5                     95.0               300.0   \n",
       "\n",
       "  Muscular Discomfort Scale Completed?  \\\n",
       "0                                  Yes   \n",
       "1                                  Yes   \n",
       "2                                  Yes   \n",
       "3                                  Yes   \n",
       "5                                  Yes   \n",
       "\n",
       "               Sensor/ Data Malfunctions during case  \\\n",
       "0                                               none   \n",
       "1                                                NaN   \n",
       "2  Database stopped recording at ** time. Began r...   \n",
       "3  participant wearing radiation sensor under lea...   \n",
       "5                                                NaN   \n",
       "\n",
       "                        Comments Complete?  \n",
       "0  ROM data taken from this case  Complete  \n",
       "1                            NaN  Complete  \n",
       "2                            NaN  Complete  \n",
       "3                            NaN  Complete  \n",
       "5                            NaN  Complete  \n",
       "\n",
       "[5 rows x 60 columns]"
      ]
     },
     "execution_count": 21,
     "metadata": {},
     "output_type": "execute_result"
    }
   ],
   "source": [
    "case_data.head()"
   ]
  },
  {
   "cell_type": "markdown",
   "metadata": {},
   "source": [
    "Case for the day:"
   ]
  },
  {
   "cell_type": "code",
   "execution_count": 22,
   "metadata": {},
   "outputs": [
    {
     "data": {
      "text/plain": [
       "Case Number for the day\n",
       "Second    40.983607\n",
       "First     37.704918\n",
       "Third     13.114754\n",
       "Fourth     8.196721\n",
       "Name: proportion, dtype: float64"
      ]
     },
     "execution_count": 22,
     "metadata": {},
     "output_type": "execute_result"
    }
   ],
   "source": [
    "# Cases for each subject\n",
    "case_data['Case Number for the day'].value_counts(normalize=True) * 100"
   ]
  },
  {
   "cell_type": "code",
   "execution_count": 23,
   "metadata": {},
   "outputs": [
    {
     "data": {
      "text/plain": [
       "Case being done...\n",
       "Without Rampart shield    62.295082\n",
       "With Rampart shield       37.704918\n",
       "Name: proportion, dtype: float64"
      ]
     },
     "execution_count": 23,
     "metadata": {},
     "output_type": "execute_result"
    }
   ],
   "source": [
    "# Case being done\n",
    "case_data['Case being done...'].value_counts(normalize=True) * 100"
   ]
  },
  {
   "cell_type": "code",
   "execution_count": 24,
   "metadata": {},
   "outputs": [
    {
     "data": {
      "text/plain": [
       "Participant wearing...\n",
       "lead       65.57377\n",
       "no lead    34.42623\n",
       "Name: proportion, dtype: float64"
      ]
     },
     "execution_count": 24,
     "metadata": {},
     "output_type": "execute_result"
    }
   ],
   "source": [
    "# What is the pariticipant wearing?\n",
    "case_data['Participant wearing...' ].value_counts(normalize=True) * 100"
   ]
  },
  {
   "cell_type": "markdown",
   "metadata": {},
   "source": [
    "Sleep habits:\n"
   ]
  },
  {
   "cell_type": "code",
   "execution_count": 25,
   "metadata": {},
   "outputs": [
    {
     "data": {
      "text/plain": [
       "count    57.000000\n",
       "mean      6.096491\n",
       "std       1.188444\n",
       "min       3.000000\n",
       "25%       5.500000\n",
       "50%       6.000000\n",
       "75%       7.000000\n",
       "max       9.000000\n",
       "Name: How many hours of sleep did participant have the night before, dtype: float64"
      ]
     },
     "execution_count": 25,
     "metadata": {},
     "output_type": "execute_result"
    }
   ],
   "source": [
    "# Hours of sleep\n",
    "case_data[ 'How many hours of sleep did participant have the night before'].describe()"
   ]
  },
  {
   "cell_type": "markdown",
   "metadata": {},
   "source": [
    "Case Type/Length:"
   ]
  },
  {
   "cell_type": "code",
   "execution_count": 26,
   "metadata": {},
   "outputs": [
    {
     "data": {
      "text/plain": [
       "Type of Case\n",
       "Coronary Arteriogram w/ no intervention    44.262295\n",
       "TAVR                                       16.393443\n",
       "Complex PCI                                13.114754\n",
       "CTO PCI                                    13.114754\n",
       "Non-Complex PCI                             9.836066\n",
       "Other                                       1.639344\n",
       "Right heart catheterization                 1.639344\n",
       "Name: proportion, dtype: float64"
      ]
     },
     "execution_count": 26,
     "metadata": {},
     "output_type": "execute_result"
    }
   ],
   "source": [
    "# Percentage of the type of case\n",
    "case_data['Type of Case'].value_counts(normalize=True) * 100"
   ]
  },
  {
   "cell_type": "code",
   "execution_count": 27,
   "metadata": {},
   "outputs": [
    {
     "data": {
      "text/plain": [
       "count     61.000000\n",
       "mean      79.852459\n",
       "std       67.526498\n",
       "min       10.000000\n",
       "25%       28.000000\n",
       "50%       61.000000\n",
       "75%      100.000000\n",
       "max      308.000000\n",
       "Name: Total case length in minutes (first lidocaine injection - sheath removal), dtype: float64"
      ]
     },
     "execution_count": 27,
     "metadata": {},
     "output_type": "execute_result"
    }
   ],
   "source": [
    "# Descriptitve statistics of the case length\n",
    "case_data['Total case length in minutes (first lidocaine injection - sheath removal)'].describe()"
   ]
  },
  {
   "cell_type": "markdown",
   "metadata": {},
   "source": [
    "### 3. Discomfort Data:"
   ]
  },
  {
   "cell_type": "code",
   "execution_count": 46,
   "metadata": {},
   "outputs": [],
   "source": [
    "Lead_Operators = [    '1_001', '2_001', '4_001', '2_002', '3_002',             \n",
    "    '1_004', '2_004', '3_005', '5_005', '1_006',\n",
    "    '2_006', '1_007', '2_007', '2_008', '3_008',\n",
    "    '2_019', '3_019', \n",
    "    '1_022', '4_022', '1_023',\n",
    "    '2_023', \n",
    "    '2_030', '3_030', '2_031']\n",
    "Rampart_Operators = [\n",
    "    '3_001','6_001', '1_002',\n",
    "    '4_002', '3_004', '4_004', '1_005', '4_005',\n",
    "    '3_006', '4_006', '3_007', '4_007', '1_008',\n",
    "    '4_008', '1_019', '4_019', '2_022', '3_022', '4_023',\n",
    "    '1_030', '1_031'\n",
    "]"
   ]
  },
  {
   "cell_type": "code",
   "execution_count": 47,
   "metadata": {},
   "outputs": [],
   "source": [
    "discomfort_data = discomfort_data[discomfort_data['Participant ID'].isin(operators_case_list)]"
   ]
  },
  {
   "cell_type": "code",
   "execution_count": 30,
   "metadata": {},
   "outputs": [
    {
     "name": "stderr",
     "output_type": "stream",
     "text": [
      "C:\\Users\\jrzem\\AppData\\Local\\Temp\\ipykernel_29144\\2274806587.py:2: FutureWarning: Downcasting behavior in `replace` is deprecated and will be removed in a future version. To retain the old behavior, explicitly call `result.infer_objects(copy=False)`. To opt-in to the future behavior, set `pd.set_option('future.no_silent_downcasting', True)`\n",
      "  discomfort_data.replace({'Checked': 1, 'Unchecked': 0}, inplace=True)\n"
     ]
    }
   ],
   "source": [
    "# Replace 'Checked' with 1 and 'Unchecked' with 0 in the discomfort data\n",
    "discomfort_data.replace({'Checked': 1, 'Unchecked': 0}, inplace=True)"
   ]
  },
  {
   "cell_type": "code",
   "execution_count": 31,
   "metadata": {},
   "outputs": [
    {
     "data": {
      "application/vnd.microsoft.datawrangler.viewer.v0+json": {
       "columns": [
        {
         "name": "index",
         "rawType": "object",
         "type": "string"
        },
        {
         "name": "Repeat Instance",
         "rawType": "float64",
         "type": "float"
        },
        {
         "name": "None (choice=Yes)",
         "rawType": "float64",
         "type": "float"
        },
        {
         "name": "None (choice=Slightly Uncomfortable)",
         "rawType": "float64",
         "type": "float"
        },
        {
         "name": "None (choice=Moderately uncomfortable)",
         "rawType": "float64",
         "type": "float"
        },
        {
         "name": "None (choice=very uncomfortable)",
         "rawType": "float64",
         "type": "float"
        },
        {
         "name": "None (choice=not at all)",
         "rawType": "float64",
         "type": "float"
        },
        {
         "name": "None (choice=slightly interfered)",
         "rawType": "float64",
         "type": "float"
        },
        {
         "name": "None (choice=substantially interfered)",
         "rawType": "float64",
         "type": "float"
        },
        {
         "name": "Neck (choice=Yes)",
         "rawType": "float64",
         "type": "float"
        },
        {
         "name": "Neck (choice=Slightly Uncomfortable)",
         "rawType": "float64",
         "type": "float"
        },
        {
         "name": "Neck (choice=Moderately uncomfortable)",
         "rawType": "float64",
         "type": "float"
        },
        {
         "name": "Neck (choice=very uncomfortable)",
         "rawType": "float64",
         "type": "float"
        },
        {
         "name": "Neck (choice=not at all)",
         "rawType": "float64",
         "type": "float"
        },
        {
         "name": "Neck (choice=slightly interfered)",
         "rawType": "float64",
         "type": "float"
        },
        {
         "name": "Neck (choice=substantially interfered)",
         "rawType": "float64",
         "type": "float"
        },
        {
         "name": "Shoulder (right) (choice=Yes)",
         "rawType": "float64",
         "type": "float"
        },
        {
         "name": "Shoulder (right) (choice=Slightly Uncomfortable)",
         "rawType": "float64",
         "type": "float"
        },
        {
         "name": "Shoulder (right) (choice=Moderately uncomfortable)",
         "rawType": "float64",
         "type": "float"
        },
        {
         "name": "Shoulder (right) (choice=very uncomfortable)",
         "rawType": "float64",
         "type": "float"
        },
        {
         "name": "Shoulder (right) (choice=not at all)",
         "rawType": "float64",
         "type": "float"
        },
        {
         "name": "Shoulder (right) (choice=slightly interfered)",
         "rawType": "float64",
         "type": "float"
        },
        {
         "name": "Shoulder (right) (choice=substantially interfered)",
         "rawType": "float64",
         "type": "float"
        },
        {
         "name": "Shoulder (left) (choice=Yes)",
         "rawType": "float64",
         "type": "float"
        },
        {
         "name": "Shoulder (left) (choice=Slightly Uncomfortable)",
         "rawType": "float64",
         "type": "float"
        },
        {
         "name": "Shoulder (left) (choice=Moderately uncomfortable)",
         "rawType": "float64",
         "type": "float"
        },
        {
         "name": "Shoulder (left) (choice=very uncomfortable)",
         "rawType": "float64",
         "type": "float"
        },
        {
         "name": "Shoulder (left) (choice=not at all)",
         "rawType": "float64",
         "type": "float"
        },
        {
         "name": "Shoulder (left) (choice=slightly interfered)",
         "rawType": "float64",
         "type": "float"
        },
        {
         "name": "Shoulder (left) (choice=substantially interfered)",
         "rawType": "float64",
         "type": "float"
        },
        {
         "name": "upper back (choice=Yes)",
         "rawType": "float64",
         "type": "float"
        },
        {
         "name": "upper back (choice=Slightly Uncomfortable)",
         "rawType": "float64",
         "type": "float"
        },
        {
         "name": "upper back (choice=Moderately uncomfortable)",
         "rawType": "float64",
         "type": "float"
        },
        {
         "name": "upper back (choice=very uncomfortable)",
         "rawType": "float64",
         "type": "float"
        },
        {
         "name": "upper back (choice=not at all)",
         "rawType": "float64",
         "type": "float"
        },
        {
         "name": "upper back (choice=slightly interfered)",
         "rawType": "float64",
         "type": "float"
        },
        {
         "name": "upper back (choice=substantially interfered)",
         "rawType": "float64",
         "type": "float"
        },
        {
         "name": "upper arm (right) (choice=Yes)",
         "rawType": "float64",
         "type": "float"
        },
        {
         "name": "upper arm (right) (choice=Slightly Uncomfortable)",
         "rawType": "float64",
         "type": "float"
        },
        {
         "name": "upper arm (right) (choice=Moderately uncomfortable)",
         "rawType": "float64",
         "type": "float"
        },
        {
         "name": "upper arm (right) (choice=very uncomfortable)",
         "rawType": "float64",
         "type": "float"
        },
        {
         "name": "upper arm (right) (choice=not at all)",
         "rawType": "float64",
         "type": "float"
        },
        {
         "name": "upper arm (right) (choice=slightly interfered)",
         "rawType": "float64",
         "type": "float"
        },
        {
         "name": "upper arm (right) (choice=substantially interfered)",
         "rawType": "float64",
         "type": "float"
        },
        {
         "name": "upper arm (left) (choice=Yes)",
         "rawType": "float64",
         "type": "float"
        },
        {
         "name": "upper arm (left) (choice=Slightly Uncomfortable)",
         "rawType": "float64",
         "type": "float"
        },
        {
         "name": "upper arm (left) (choice=Moderately uncomfortable)",
         "rawType": "float64",
         "type": "float"
        },
        {
         "name": "upper arm (left) (choice=very uncomfortable)",
         "rawType": "float64",
         "type": "float"
        },
        {
         "name": "upper arm (left) (choice=not at all)",
         "rawType": "float64",
         "type": "float"
        },
        {
         "name": "upper arm (left) (choice=slightly interfered)",
         "rawType": "float64",
         "type": "float"
        },
        {
         "name": "upper arm (left) (choice=substantially interfered)",
         "rawType": "float64",
         "type": "float"
        },
        {
         "name": "lower back (choice=Yes)",
         "rawType": "float64",
         "type": "float"
        },
        {
         "name": "lower back (choice=Slightly Uncomfortable)",
         "rawType": "float64",
         "type": "float"
        },
        {
         "name": "lower back (choice=Moderately uncomfortable)",
         "rawType": "float64",
         "type": "float"
        },
        {
         "name": "lower back (choice=very uncomfortable)",
         "rawType": "float64",
         "type": "float"
        },
        {
         "name": "lower back (choice=not at all)",
         "rawType": "float64",
         "type": "float"
        },
        {
         "name": "lower back (choice=slightly interfered)",
         "rawType": "float64",
         "type": "float"
        },
        {
         "name": "lower back (choice=substantially interfered)",
         "rawType": "float64",
         "type": "float"
        },
        {
         "name": "forearm (right) (choice=Yes)",
         "rawType": "float64",
         "type": "float"
        },
        {
         "name": "forearm (right) (choice=Slightly Uncomfortable)",
         "rawType": "float64",
         "type": "float"
        },
        {
         "name": "forearm (right) (choice=Moderately uncomfortable)",
         "rawType": "float64",
         "type": "float"
        },
        {
         "name": "forearm (right) (choice=very uncomfortable)",
         "rawType": "float64",
         "type": "float"
        },
        {
         "name": "forearm (right) (choice=not at all)",
         "rawType": "float64",
         "type": "float"
        },
        {
         "name": "forearm (right) (choice=slightly interfered)",
         "rawType": "float64",
         "type": "float"
        },
        {
         "name": "forearm (right) (choice=substantially interfered)",
         "rawType": "float64",
         "type": "float"
        },
        {
         "name": "forearm (left) (choice=Yes)",
         "rawType": "float64",
         "type": "float"
        },
        {
         "name": "forearm (left) (choice=Slightly Uncomfortable)",
         "rawType": "float64",
         "type": "float"
        },
        {
         "name": "forearm (left) (choice=Moderately uncomfortable)",
         "rawType": "float64",
         "type": "float"
        },
        {
         "name": "forearm (left) (choice=very uncomfortable)",
         "rawType": "float64",
         "type": "float"
        },
        {
         "name": "forearm (left) (choice=not at all)",
         "rawType": "float64",
         "type": "float"
        },
        {
         "name": "forearm (left) (choice=slightly interfered)",
         "rawType": "float64",
         "type": "float"
        },
        {
         "name": "forearm (left) (choice=substantially interfered)",
         "rawType": "float64",
         "type": "float"
        },
        {
         "name": "wrist (right) (choice=Yes)",
         "rawType": "float64",
         "type": "float"
        },
        {
         "name": "wrist (right) (choice=Slightly Uncomfortable)",
         "rawType": "float64",
         "type": "float"
        },
        {
         "name": "wrist (right) (choice=Moderately uncomfortable)",
         "rawType": "float64",
         "type": "float"
        },
        {
         "name": "wrist (right) (choice=very uncomfortable)",
         "rawType": "float64",
         "type": "float"
        },
        {
         "name": "wrist (right) (choice=not at all)",
         "rawType": "float64",
         "type": "float"
        },
        {
         "name": "wrist (right) (choice=slightly interfered)",
         "rawType": "float64",
         "type": "float"
        },
        {
         "name": "wrist (right) (choice=substantially interfered)",
         "rawType": "float64",
         "type": "float"
        },
        {
         "name": "wrist (left) (choice=Yes)",
         "rawType": "float64",
         "type": "float"
        },
        {
         "name": "wrist (left) (choice=Slightly Uncomfortable)",
         "rawType": "float64",
         "type": "float"
        },
        {
         "name": "wrist (left) (choice=Moderately uncomfortable)",
         "rawType": "float64",
         "type": "float"
        },
        {
         "name": "wrist (left) (choice=very uncomfortable)",
         "rawType": "float64",
         "type": "float"
        },
        {
         "name": "wrist (left) (choice=not at all)",
         "rawType": "float64",
         "type": "float"
        },
        {
         "name": "wrist (left) (choice=slightly interfered)",
         "rawType": "float64",
         "type": "float"
        },
        {
         "name": "wrist (left) (choice=substantially interfered)",
         "rawType": "float64",
         "type": "float"
        },
        {
         "name": "hip/buttocks (choice=Yes)",
         "rawType": "float64",
         "type": "float"
        },
        {
         "name": "hip/buttocks (choice=Slightly Uncomfortable)",
         "rawType": "float64",
         "type": "float"
        },
        {
         "name": "hip/buttocks (choice=Moderately uncomfortable)",
         "rawType": "float64",
         "type": "float"
        },
        {
         "name": "hip/buttocks (choice=very uncomfortable)",
         "rawType": "float64",
         "type": "float"
        },
        {
         "name": "hip/buttocks (choice=not at all)",
         "rawType": "float64",
         "type": "float"
        },
        {
         "name": "hip/buttocks (choice=slightly interfered)",
         "rawType": "float64",
         "type": "float"
        },
        {
         "name": "hip/buttocks (choice=substantially interfered)",
         "rawType": "float64",
         "type": "float"
        },
        {
         "name": "thigh (right) (choice=Yes)",
         "rawType": "float64",
         "type": "float"
        },
        {
         "name": "thigh (right) (choice=Slightly Uncomfortable)",
         "rawType": "float64",
         "type": "float"
        },
        {
         "name": "thigh (right) (choice=Moderately uncomfortable)",
         "rawType": "float64",
         "type": "float"
        },
        {
         "name": "thigh (right) (choice=very uncomfortable)",
         "rawType": "float64",
         "type": "float"
        },
        {
         "name": "thigh (right) (choice=not at all)",
         "rawType": "float64",
         "type": "float"
        },
        {
         "name": "thigh (right) (choice=slightly interfered)",
         "rawType": "float64",
         "type": "float"
        },
        {
         "name": "thigh (right) (choice=substantially interfered)",
         "rawType": "float64",
         "type": "float"
        },
        {
         "name": "thigh (left) (choice=Yes)",
         "rawType": "float64",
         "type": "float"
        },
        {
         "name": "thigh (left) (choice=Slightly Uncomfortable)",
         "rawType": "float64",
         "type": "float"
        },
        {
         "name": "thigh (left) (choice=Moderately uncomfortable)",
         "rawType": "float64",
         "type": "float"
        },
        {
         "name": "thigh (left) (choice=very uncomfortable)",
         "rawType": "float64",
         "type": "float"
        },
        {
         "name": "thigh (left) (choice=not at all)",
         "rawType": "float64",
         "type": "float"
        },
        {
         "name": "thigh (left) (choice=slightly interfered)",
         "rawType": "float64",
         "type": "float"
        },
        {
         "name": "thigh (left) (choice=substantially interfered)",
         "rawType": "float64",
         "type": "float"
        },
        {
         "name": "knee (right) (choice=Yes)",
         "rawType": "float64",
         "type": "float"
        },
        {
         "name": "knee (right) (choice=Slightly Uncomfortable)",
         "rawType": "float64",
         "type": "float"
        },
        {
         "name": "knee (right) (choice=Moderately uncomfortable)",
         "rawType": "float64",
         "type": "float"
        },
        {
         "name": "knee (right) (choice=very uncomfortable)",
         "rawType": "float64",
         "type": "float"
        },
        {
         "name": "knee (right) (choice=not at all)",
         "rawType": "float64",
         "type": "float"
        },
        {
         "name": "knee (right) (choice=slightly interfered)",
         "rawType": "float64",
         "type": "float"
        },
        {
         "name": "knee (right) (choice=substantially interfered)",
         "rawType": "float64",
         "type": "float"
        },
        {
         "name": "knee (left) (choice=Yes)",
         "rawType": "float64",
         "type": "float"
        },
        {
         "name": "knee (left) (choice=Slightly Uncomfortable)",
         "rawType": "float64",
         "type": "float"
        },
        {
         "name": "knee (left) (choice=Moderately uncomfortable)",
         "rawType": "float64",
         "type": "float"
        },
        {
         "name": "knee (left) (choice=very uncomfortable)",
         "rawType": "float64",
         "type": "float"
        },
        {
         "name": "knee (left) (choice=not at all)",
         "rawType": "float64",
         "type": "float"
        },
        {
         "name": "knee (left) (choice=slightly interfered)",
         "rawType": "float64",
         "type": "float"
        },
        {
         "name": "knee (left) (choice=substantially interfered)",
         "rawType": "float64",
         "type": "float"
        },
        {
         "name": "lower leg (right) (choice=Yes)",
         "rawType": "float64",
         "type": "float"
        },
        {
         "name": "lower leg (right) (choice=Slightly Uncomfortable)",
         "rawType": "float64",
         "type": "float"
        },
        {
         "name": "lower leg (right) (choice=Moderately uncomfortable)",
         "rawType": "float64",
         "type": "float"
        },
        {
         "name": "lower leg (right) (choice=very uncomfortable)",
         "rawType": "float64",
         "type": "float"
        },
        {
         "name": "lower leg (right) (choice=not at all)",
         "rawType": "float64",
         "type": "float"
        },
        {
         "name": "lower leg (right) (choice=slightly interfered)",
         "rawType": "float64",
         "type": "float"
        },
        {
         "name": "lower leg (right) (choice=substantially interfered)",
         "rawType": "float64",
         "type": "float"
        },
        {
         "name": "lower leg (left) (choice=Yes)",
         "rawType": "float64",
         "type": "float"
        },
        {
         "name": "lower leg (left) (choice=Slightly Uncomfortable)",
         "rawType": "float64",
         "type": "float"
        },
        {
         "name": "lower leg (left) (choice=Moderately uncomfortable)",
         "rawType": "float64",
         "type": "float"
        },
        {
         "name": "lower leg (left) (choice=very uncomfortable)",
         "rawType": "float64",
         "type": "float"
        },
        {
         "name": "lower leg (left) (choice=not at all)",
         "rawType": "float64",
         "type": "float"
        },
        {
         "name": "lower leg (left) (choice=slightly interfered)",
         "rawType": "float64",
         "type": "float"
        },
        {
         "name": "lower leg (left) (choice=substantially interfered)",
         "rawType": "float64",
         "type": "float"
        },
        {
         "name": "foot (right) (choice=Yes)",
         "rawType": "float64",
         "type": "float"
        },
        {
         "name": "foot (right) (choice=Slightly Uncomfortable)",
         "rawType": "float64",
         "type": "float"
        },
        {
         "name": "foot (right) (choice=Moderately uncomfortable)",
         "rawType": "float64",
         "type": "float"
        },
        {
         "name": "foot (right) (choice=very uncomfortable)",
         "rawType": "float64",
         "type": "float"
        },
        {
         "name": "foot (right) (choice=not at all)",
         "rawType": "float64",
         "type": "float"
        },
        {
         "name": "foot (right) (choice=slightly interfered)",
         "rawType": "float64",
         "type": "float"
        },
        {
         "name": "foot (right) (choice=substantially interfered)",
         "rawType": "float64",
         "type": "float"
        },
        {
         "name": "foot (left) (choice=Yes)",
         "rawType": "float64",
         "type": "float"
        },
        {
         "name": "foot (left) (choice=Slightly Uncomfortable)",
         "rawType": "float64",
         "type": "float"
        },
        {
         "name": "foot (left) (choice=Moderately uncomfortable)",
         "rawType": "float64",
         "type": "float"
        },
        {
         "name": "foot (left) (choice=very uncomfortable)",
         "rawType": "float64",
         "type": "float"
        },
        {
         "name": "foot (left) (choice=not at all)",
         "rawType": "float64",
         "type": "float"
        },
        {
         "name": "foot (left) (choice=slightly interfered)",
         "rawType": "float64",
         "type": "float"
        },
        {
         "name": "foot (left) (choice=substantially interfered)",
         "rawType": "float64",
         "type": "float"
        }
       ],
       "conversionMethod": "pd.DataFrame",
       "ref": "21d49b43-682b-4402-95c5-f078046e3838",
       "rows": [
        [
         "count",
         "56.0",
         "56.0",
         "56.0",
         "56.0",
         "56.0",
         "56.0",
         "56.0",
         "56.0",
         "56.0",
         "56.0",
         "56.0",
         "56.0",
         "56.0",
         "56.0",
         "56.0",
         "56.0",
         "56.0",
         "56.0",
         "56.0",
         "56.0",
         "56.0",
         "56.0",
         "56.0",
         "56.0",
         "56.0",
         "56.0",
         "56.0",
         "56.0",
         "56.0",
         "56.0",
         "56.0",
         "56.0",
         "56.0",
         "56.0",
         "56.0",
         "56.0",
         "56.0",
         "56.0",
         "56.0",
         "56.0",
         "56.0",
         "56.0",
         "56.0",
         "56.0",
         "56.0",
         "56.0",
         "56.0",
         "56.0",
         "56.0",
         "56.0",
         "56.0",
         "56.0",
         "56.0",
         "56.0",
         "56.0",
         "56.0",
         "56.0",
         "56.0",
         "56.0",
         "56.0",
         "56.0",
         "56.0",
         "56.0",
         "56.0",
         "56.0",
         "56.0",
         "56.0",
         "56.0",
         "56.0",
         "56.0",
         "56.0",
         "56.0",
         "56.0",
         "56.0",
         "56.0",
         "56.0",
         "56.0",
         "56.0",
         "56.0",
         "56.0",
         "56.0",
         "56.0",
         "56.0",
         "56.0",
         "56.0",
         "56.0",
         "56.0",
         "56.0",
         "56.0",
         "56.0",
         "56.0",
         "56.0",
         "56.0",
         "56.0",
         "56.0",
         "56.0",
         "56.0",
         "56.0",
         "56.0",
         "56.0",
         "56.0",
         "56.0",
         "56.0",
         "56.0",
         "56.0",
         "56.0",
         "56.0",
         "56.0",
         "56.0",
         "56.0",
         "56.0",
         "56.0",
         "56.0",
         "56.0",
         "56.0",
         "56.0",
         "56.0",
         "56.0",
         "56.0",
         "56.0",
         "56.0",
         "56.0",
         "56.0",
         "56.0",
         "56.0",
         "56.0",
         "56.0",
         "56.0",
         "56.0",
         "56.0",
         "56.0",
         "56.0",
         "56.0",
         "56.0",
         "56.0",
         "56.0",
         "56.0",
         "56.0",
         "56.0",
         "56.0",
         "56.0",
         "56.0",
         "56.0",
         "56.0",
         "56.0",
         "56.0",
         "56.0",
         "56.0"
        ],
        [
         "mean",
         "2.232142857142857",
         "0.8928571428571429",
         "0.0",
         "0.0",
         "0.0",
         "0.0",
         "0.0",
         "0.0",
         "0.03571428571428571",
         "0.017857142857142856",
         "0.0",
         "0.0",
         "0.03571428571428571",
         "0.0",
         "0.0",
         "0.07142857142857142",
         "0.05357142857142857",
         "0.017857142857142856",
         "0.0",
         "0.05357142857142857",
         "0.017857142857142856",
         "0.0",
         "0.07142857142857142",
         "0.05357142857142857",
         "0.017857142857142856",
         "0.0",
         "0.05357142857142857",
         "0.017857142857142856",
         "0.0",
         "0.017857142857142856",
         "0.0",
         "0.0",
         "0.017857142857142856",
         "0.0",
         "0.017857142857142856",
         "0.0",
         "0.0",
         "0.0",
         "0.0",
         "0.0",
         "0.0",
         "0.0",
         "0.0",
         "0.0",
         "0.0",
         "0.0",
         "0.0",
         "0.0",
         "0.0",
         "0.0",
         "0.03571428571428571",
         "0.0",
         "0.0",
         "0.017857142857142856",
         "0.017857142857142856",
         "0.017857142857142856",
         "0.0",
         "0.0",
         "0.0",
         "0.0",
         "0.0",
         "0.0",
         "0.0",
         "0.0",
         "0.0",
         "0.0",
         "0.0",
         "0.0",
         "0.0",
         "0.0",
         "0.0",
         "0.0",
         "0.0",
         "0.0",
         "0.0",
         "0.0",
         "0.0",
         "0.0",
         "0.0",
         "0.0",
         "0.0",
         "0.0",
         "0.0",
         "0.0",
         "0.0",
         "0.0",
         "0.0",
         "0.0",
         "0.0",
         "0.0",
         "0.0",
         "0.0",
         "0.0",
         "0.0",
         "0.0",
         "0.0",
         "0.0",
         "0.0",
         "0.0",
         "0.0",
         "0.0",
         "0.0",
         "0.0",
         "0.0",
         "0.0",
         "0.0",
         "0.0",
         "0.0",
         "0.0",
         "0.0",
         "0.0",
         "0.0",
         "0.0",
         "0.0",
         "0.0",
         "0.0",
         "0.0",
         "0.0",
         "0.0",
         "0.0",
         "0.0",
         "0.0",
         "0.0",
         "0.0",
         "0.0",
         "0.0",
         "0.0",
         "0.0",
         "0.0",
         "0.0",
         "0.0",
         "0.0",
         "0.0",
         "0.0",
         "0.0",
         "0.0",
         "0.0",
         "0.0",
         "0.0",
         "0.0",
         "0.0",
         "0.0",
         "0.0",
         "0.0",
         "0.0",
         "0.0",
         "0.0",
         "0.0"
        ],
        [
         "std",
         "1.1597973401115689",
         "0.3120938919661796",
         "0.0",
         "0.0",
         "0.0",
         "0.0",
         "0.0",
         "0.0",
         "0.1872563351797078",
         "0.1336306209562122",
         "0.0",
         "0.0",
         "0.1872563351797078",
         "0.0",
         "0.0",
         "0.259870097418821",
         "0.227207782928703",
         "0.1336306209562122",
         "0.0",
         "0.227207782928703",
         "0.1336306209562122",
         "0.0",
         "0.259870097418821",
         "0.227207782928703",
         "0.1336306209562122",
         "0.0",
         "0.227207782928703",
         "0.1336306209562122",
         "0.0",
         "0.1336306209562122",
         "0.0",
         "0.0",
         "0.1336306209562122",
         "0.0",
         "0.1336306209562122",
         "0.0",
         "0.0",
         "0.0",
         "0.0",
         "0.0",
         "0.0",
         "0.0",
         "0.0",
         "0.0",
         "0.0",
         "0.0",
         "0.0",
         "0.0",
         "0.0",
         "0.0",
         "0.1872563351797078",
         "0.0",
         "0.0",
         "0.1336306209562122",
         "0.1336306209562122",
         "0.1336306209562122",
         "0.0",
         "0.0",
         "0.0",
         "0.0",
         "0.0",
         "0.0",
         "0.0",
         "0.0",
         "0.0",
         "0.0",
         "0.0",
         "0.0",
         "0.0",
         "0.0",
         "0.0",
         "0.0",
         "0.0",
         "0.0",
         "0.0",
         "0.0",
         "0.0",
         "0.0",
         "0.0",
         "0.0",
         "0.0",
         "0.0",
         "0.0",
         "0.0",
         "0.0",
         "0.0",
         "0.0",
         "0.0",
         "0.0",
         "0.0",
         "0.0",
         "0.0",
         "0.0",
         "0.0",
         "0.0",
         "0.0",
         "0.0",
         "0.0",
         "0.0",
         "0.0",
         "0.0",
         "0.0",
         "0.0",
         "0.0",
         "0.0",
         "0.0",
         "0.0",
         "0.0",
         "0.0",
         "0.0",
         "0.0",
         "0.0",
         "0.0",
         "0.0",
         "0.0",
         "0.0",
         "0.0",
         "0.0",
         "0.0",
         "0.0",
         "0.0",
         "0.0",
         "0.0",
         "0.0",
         "0.0",
         "0.0",
         "0.0",
         "0.0",
         "0.0",
         "0.0",
         "0.0",
         "0.0",
         "0.0",
         "0.0",
         "0.0",
         "0.0",
         "0.0",
         "0.0",
         "0.0",
         "0.0",
         "0.0",
         "0.0",
         "0.0",
         "0.0",
         "0.0",
         "0.0",
         "0.0",
         "0.0"
        ],
        [
         "min",
         "1.0",
         "0.0",
         "0.0",
         "0.0",
         "0.0",
         "0.0",
         "0.0",
         "0.0",
         "0.0",
         "0.0",
         "0.0",
         "0.0",
         "0.0",
         "0.0",
         "0.0",
         "0.0",
         "0.0",
         "0.0",
         "0.0",
         "0.0",
         "0.0",
         "0.0",
         "0.0",
         "0.0",
         "0.0",
         "0.0",
         "0.0",
         "0.0",
         "0.0",
         "0.0",
         "0.0",
         "0.0",
         "0.0",
         "0.0",
         "0.0",
         "0.0",
         "0.0",
         "0.0",
         "0.0",
         "0.0",
         "0.0",
         "0.0",
         "0.0",
         "0.0",
         "0.0",
         "0.0",
         "0.0",
         "0.0",
         "0.0",
         "0.0",
         "0.0",
         "0.0",
         "0.0",
         "0.0",
         "0.0",
         "0.0",
         "0.0",
         "0.0",
         "0.0",
         "0.0",
         "0.0",
         "0.0",
         "0.0",
         "0.0",
         "0.0",
         "0.0",
         "0.0",
         "0.0",
         "0.0",
         "0.0",
         "0.0",
         "0.0",
         "0.0",
         "0.0",
         "0.0",
         "0.0",
         "0.0",
         "0.0",
         "0.0",
         "0.0",
         "0.0",
         "0.0",
         "0.0",
         "0.0",
         "0.0",
         "0.0",
         "0.0",
         "0.0",
         "0.0",
         "0.0",
         "0.0",
         "0.0",
         "0.0",
         "0.0",
         "0.0",
         "0.0",
         "0.0",
         "0.0",
         "0.0",
         "0.0",
         "0.0",
         "0.0",
         "0.0",
         "0.0",
         "0.0",
         "0.0",
         "0.0",
         "0.0",
         "0.0",
         "0.0",
         "0.0",
         "0.0",
         "0.0",
         "0.0",
         "0.0",
         "0.0",
         "0.0",
         "0.0",
         "0.0",
         "0.0",
         "0.0",
         "0.0",
         "0.0",
         "0.0",
         "0.0",
         "0.0",
         "0.0",
         "0.0",
         "0.0",
         "0.0",
         "0.0",
         "0.0",
         "0.0",
         "0.0",
         "0.0",
         "0.0",
         "0.0",
         "0.0",
         "0.0",
         "0.0",
         "0.0",
         "0.0",
         "0.0",
         "0.0",
         "0.0",
         "0.0",
         "0.0",
         "0.0"
        ],
        [
         "25%",
         "1.0",
         "1.0",
         "0.0",
         "0.0",
         "0.0",
         "0.0",
         "0.0",
         "0.0",
         "0.0",
         "0.0",
         "0.0",
         "0.0",
         "0.0",
         "0.0",
         "0.0",
         "0.0",
         "0.0",
         "0.0",
         "0.0",
         "0.0",
         "0.0",
         "0.0",
         "0.0",
         "0.0",
         "0.0",
         "0.0",
         "0.0",
         "0.0",
         "0.0",
         "0.0",
         "0.0",
         "0.0",
         "0.0",
         "0.0",
         "0.0",
         "0.0",
         "0.0",
         "0.0",
         "0.0",
         "0.0",
         "0.0",
         "0.0",
         "0.0",
         "0.0",
         "0.0",
         "0.0",
         "0.0",
         "0.0",
         "0.0",
         "0.0",
         "0.0",
         "0.0",
         "0.0",
         "0.0",
         "0.0",
         "0.0",
         "0.0",
         "0.0",
         "0.0",
         "0.0",
         "0.0",
         "0.0",
         "0.0",
         "0.0",
         "0.0",
         "0.0",
         "0.0",
         "0.0",
         "0.0",
         "0.0",
         "0.0",
         "0.0",
         "0.0",
         "0.0",
         "0.0",
         "0.0",
         "0.0",
         "0.0",
         "0.0",
         "0.0",
         "0.0",
         "0.0",
         "0.0",
         "0.0",
         "0.0",
         "0.0",
         "0.0",
         "0.0",
         "0.0",
         "0.0",
         "0.0",
         "0.0",
         "0.0",
         "0.0",
         "0.0",
         "0.0",
         "0.0",
         "0.0",
         "0.0",
         "0.0",
         "0.0",
         "0.0",
         "0.0",
         "0.0",
         "0.0",
         "0.0",
         "0.0",
         "0.0",
         "0.0",
         "0.0",
         "0.0",
         "0.0",
         "0.0",
         "0.0",
         "0.0",
         "0.0",
         "0.0",
         "0.0",
         "0.0",
         "0.0",
         "0.0",
         "0.0",
         "0.0",
         "0.0",
         "0.0",
         "0.0",
         "0.0",
         "0.0",
         "0.0",
         "0.0",
         "0.0",
         "0.0",
         "0.0",
         "0.0",
         "0.0",
         "0.0",
         "0.0",
         "0.0",
         "0.0",
         "0.0",
         "0.0",
         "0.0",
         "0.0",
         "0.0",
         "0.0",
         "0.0",
         "0.0",
         "0.0"
        ],
        [
         "50%",
         "2.0",
         "1.0",
         "0.0",
         "0.0",
         "0.0",
         "0.0",
         "0.0",
         "0.0",
         "0.0",
         "0.0",
         "0.0",
         "0.0",
         "0.0",
         "0.0",
         "0.0",
         "0.0",
         "0.0",
         "0.0",
         "0.0",
         "0.0",
         "0.0",
         "0.0",
         "0.0",
         "0.0",
         "0.0",
         "0.0",
         "0.0",
         "0.0",
         "0.0",
         "0.0",
         "0.0",
         "0.0",
         "0.0",
         "0.0",
         "0.0",
         "0.0",
         "0.0",
         "0.0",
         "0.0",
         "0.0",
         "0.0",
         "0.0",
         "0.0",
         "0.0",
         "0.0",
         "0.0",
         "0.0",
         "0.0",
         "0.0",
         "0.0",
         "0.0",
         "0.0",
         "0.0",
         "0.0",
         "0.0",
         "0.0",
         "0.0",
         "0.0",
         "0.0",
         "0.0",
         "0.0",
         "0.0",
         "0.0",
         "0.0",
         "0.0",
         "0.0",
         "0.0",
         "0.0",
         "0.0",
         "0.0",
         "0.0",
         "0.0",
         "0.0",
         "0.0",
         "0.0",
         "0.0",
         "0.0",
         "0.0",
         "0.0",
         "0.0",
         "0.0",
         "0.0",
         "0.0",
         "0.0",
         "0.0",
         "0.0",
         "0.0",
         "0.0",
         "0.0",
         "0.0",
         "0.0",
         "0.0",
         "0.0",
         "0.0",
         "0.0",
         "0.0",
         "0.0",
         "0.0",
         "0.0",
         "0.0",
         "0.0",
         "0.0",
         "0.0",
         "0.0",
         "0.0",
         "0.0",
         "0.0",
         "0.0",
         "0.0",
         "0.0",
         "0.0",
         "0.0",
         "0.0",
         "0.0",
         "0.0",
         "0.0",
         "0.0",
         "0.0",
         "0.0",
         "0.0",
         "0.0",
         "0.0",
         "0.0",
         "0.0",
         "0.0",
         "0.0",
         "0.0",
         "0.0",
         "0.0",
         "0.0",
         "0.0",
         "0.0",
         "0.0",
         "0.0",
         "0.0",
         "0.0",
         "0.0",
         "0.0",
         "0.0",
         "0.0",
         "0.0",
         "0.0",
         "0.0",
         "0.0",
         "0.0",
         "0.0",
         "0.0",
         "0.0"
        ],
        [
         "75%",
         "3.0",
         "1.0",
         "0.0",
         "0.0",
         "0.0",
         "0.0",
         "0.0",
         "0.0",
         "0.0",
         "0.0",
         "0.0",
         "0.0",
         "0.0",
         "0.0",
         "0.0",
         "0.0",
         "0.0",
         "0.0",
         "0.0",
         "0.0",
         "0.0",
         "0.0",
         "0.0",
         "0.0",
         "0.0",
         "0.0",
         "0.0",
         "0.0",
         "0.0",
         "0.0",
         "0.0",
         "0.0",
         "0.0",
         "0.0",
         "0.0",
         "0.0",
         "0.0",
         "0.0",
         "0.0",
         "0.0",
         "0.0",
         "0.0",
         "0.0",
         "0.0",
         "0.0",
         "0.0",
         "0.0",
         "0.0",
         "0.0",
         "0.0",
         "0.0",
         "0.0",
         "0.0",
         "0.0",
         "0.0",
         "0.0",
         "0.0",
         "0.0",
         "0.0",
         "0.0",
         "0.0",
         "0.0",
         "0.0",
         "0.0",
         "0.0",
         "0.0",
         "0.0",
         "0.0",
         "0.0",
         "0.0",
         "0.0",
         "0.0",
         "0.0",
         "0.0",
         "0.0",
         "0.0",
         "0.0",
         "0.0",
         "0.0",
         "0.0",
         "0.0",
         "0.0",
         "0.0",
         "0.0",
         "0.0",
         "0.0",
         "0.0",
         "0.0",
         "0.0",
         "0.0",
         "0.0",
         "0.0",
         "0.0",
         "0.0",
         "0.0",
         "0.0",
         "0.0",
         "0.0",
         "0.0",
         "0.0",
         "0.0",
         "0.0",
         "0.0",
         "0.0",
         "0.0",
         "0.0",
         "0.0",
         "0.0",
         "0.0",
         "0.0",
         "0.0",
         "0.0",
         "0.0",
         "0.0",
         "0.0",
         "0.0",
         "0.0",
         "0.0",
         "0.0",
         "0.0",
         "0.0",
         "0.0",
         "0.0",
         "0.0",
         "0.0",
         "0.0",
         "0.0",
         "0.0",
         "0.0",
         "0.0",
         "0.0",
         "0.0",
         "0.0",
         "0.0",
         "0.0",
         "0.0",
         "0.0",
         "0.0",
         "0.0",
         "0.0",
         "0.0",
         "0.0",
         "0.0",
         "0.0",
         "0.0",
         "0.0",
         "0.0",
         "0.0"
        ],
        [
         "max",
         "5.0",
         "1.0",
         "0.0",
         "0.0",
         "0.0",
         "0.0",
         "0.0",
         "0.0",
         "1.0",
         "1.0",
         "0.0",
         "0.0",
         "1.0",
         "0.0",
         "0.0",
         "1.0",
         "1.0",
         "1.0",
         "0.0",
         "1.0",
         "1.0",
         "0.0",
         "1.0",
         "1.0",
         "1.0",
         "0.0",
         "1.0",
         "1.0",
         "0.0",
         "1.0",
         "0.0",
         "0.0",
         "1.0",
         "0.0",
         "1.0",
         "0.0",
         "0.0",
         "0.0",
         "0.0",
         "0.0",
         "0.0",
         "0.0",
         "0.0",
         "0.0",
         "0.0",
         "0.0",
         "0.0",
         "0.0",
         "0.0",
         "0.0",
         "1.0",
         "0.0",
         "0.0",
         "1.0",
         "1.0",
         "1.0",
         "0.0",
         "0.0",
         "0.0",
         "0.0",
         "0.0",
         "0.0",
         "0.0",
         "0.0",
         "0.0",
         "0.0",
         "0.0",
         "0.0",
         "0.0",
         "0.0",
         "0.0",
         "0.0",
         "0.0",
         "0.0",
         "0.0",
         "0.0",
         "0.0",
         "0.0",
         "0.0",
         "0.0",
         "0.0",
         "0.0",
         "0.0",
         "0.0",
         "0.0",
         "0.0",
         "0.0",
         "0.0",
         "0.0",
         "0.0",
         "0.0",
         "0.0",
         "0.0",
         "0.0",
         "0.0",
         "0.0",
         "0.0",
         "0.0",
         "0.0",
         "0.0",
         "0.0",
         "0.0",
         "0.0",
         "0.0",
         "0.0",
         "0.0",
         "0.0",
         "0.0",
         "0.0",
         "0.0",
         "0.0",
         "0.0",
         "0.0",
         "0.0",
         "0.0",
         "0.0",
         "0.0",
         "0.0",
         "0.0",
         "0.0",
         "0.0",
         "0.0",
         "0.0",
         "0.0",
         "0.0",
         "0.0",
         "0.0",
         "0.0",
         "0.0",
         "0.0",
         "0.0",
         "0.0",
         "0.0",
         "0.0",
         "0.0",
         "0.0",
         "0.0",
         "0.0",
         "0.0",
         "0.0",
         "0.0",
         "0.0",
         "0.0",
         "0.0",
         "0.0",
         "0.0",
         "0.0",
         "0.0"
        ]
       ],
       "shape": {
        "columns": 148,
        "rows": 8
       }
      },
      "text/html": [
       "<div>\n",
       "<style scoped>\n",
       "    .dataframe tbody tr th:only-of-type {\n",
       "        vertical-align: middle;\n",
       "    }\n",
       "\n",
       "    .dataframe tbody tr th {\n",
       "        vertical-align: top;\n",
       "    }\n",
       "\n",
       "    .dataframe thead th {\n",
       "        text-align: right;\n",
       "    }\n",
       "</style>\n",
       "<table border=\"1\" class=\"dataframe\">\n",
       "  <thead>\n",
       "    <tr style=\"text-align: right;\">\n",
       "      <th></th>\n",
       "      <th>Repeat Instance</th>\n",
       "      <th>None (choice=Yes)</th>\n",
       "      <th>None (choice=Slightly Uncomfortable)</th>\n",
       "      <th>None (choice=Moderately uncomfortable)</th>\n",
       "      <th>None (choice=very uncomfortable)</th>\n",
       "      <th>None (choice=not at all)</th>\n",
       "      <th>None (choice=slightly interfered)</th>\n",
       "      <th>None (choice=substantially interfered)</th>\n",
       "      <th>Neck (choice=Yes)</th>\n",
       "      <th>Neck (choice=Slightly Uncomfortable)</th>\n",
       "      <th>...</th>\n",
       "      <th>foot (right) (choice=not at all)</th>\n",
       "      <th>foot (right) (choice=slightly interfered)</th>\n",
       "      <th>foot (right) (choice=substantially interfered)</th>\n",
       "      <th>foot (left) (choice=Yes)</th>\n",
       "      <th>foot (left) (choice=Slightly Uncomfortable)</th>\n",
       "      <th>foot (left) (choice=Moderately uncomfortable)</th>\n",
       "      <th>foot (left) (choice=very uncomfortable)</th>\n",
       "      <th>foot (left) (choice=not at all)</th>\n",
       "      <th>foot (left) (choice=slightly interfered)</th>\n",
       "      <th>foot (left) (choice=substantially interfered)</th>\n",
       "    </tr>\n",
       "  </thead>\n",
       "  <tbody>\n",
       "    <tr>\n",
       "      <th>count</th>\n",
       "      <td>56.000000</td>\n",
       "      <td>56.000000</td>\n",
       "      <td>56.0</td>\n",
       "      <td>56.0</td>\n",
       "      <td>56.0</td>\n",
       "      <td>56.0</td>\n",
       "      <td>56.0</td>\n",
       "      <td>56.0</td>\n",
       "      <td>56.000000</td>\n",
       "      <td>56.000000</td>\n",
       "      <td>...</td>\n",
       "      <td>56.0</td>\n",
       "      <td>56.0</td>\n",
       "      <td>56.0</td>\n",
       "      <td>56.0</td>\n",
       "      <td>56.0</td>\n",
       "      <td>56.0</td>\n",
       "      <td>56.0</td>\n",
       "      <td>56.0</td>\n",
       "      <td>56.0</td>\n",
       "      <td>56.0</td>\n",
       "    </tr>\n",
       "    <tr>\n",
       "      <th>mean</th>\n",
       "      <td>2.232143</td>\n",
       "      <td>0.892857</td>\n",
       "      <td>0.0</td>\n",
       "      <td>0.0</td>\n",
       "      <td>0.0</td>\n",
       "      <td>0.0</td>\n",
       "      <td>0.0</td>\n",
       "      <td>0.0</td>\n",
       "      <td>0.035714</td>\n",
       "      <td>0.017857</td>\n",
       "      <td>...</td>\n",
       "      <td>0.0</td>\n",
       "      <td>0.0</td>\n",
       "      <td>0.0</td>\n",
       "      <td>0.0</td>\n",
       "      <td>0.0</td>\n",
       "      <td>0.0</td>\n",
       "      <td>0.0</td>\n",
       "      <td>0.0</td>\n",
       "      <td>0.0</td>\n",
       "      <td>0.0</td>\n",
       "    </tr>\n",
       "    <tr>\n",
       "      <th>std</th>\n",
       "      <td>1.159797</td>\n",
       "      <td>0.312094</td>\n",
       "      <td>0.0</td>\n",
       "      <td>0.0</td>\n",
       "      <td>0.0</td>\n",
       "      <td>0.0</td>\n",
       "      <td>0.0</td>\n",
       "      <td>0.0</td>\n",
       "      <td>0.187256</td>\n",
       "      <td>0.133631</td>\n",
       "      <td>...</td>\n",
       "      <td>0.0</td>\n",
       "      <td>0.0</td>\n",
       "      <td>0.0</td>\n",
       "      <td>0.0</td>\n",
       "      <td>0.0</td>\n",
       "      <td>0.0</td>\n",
       "      <td>0.0</td>\n",
       "      <td>0.0</td>\n",
       "      <td>0.0</td>\n",
       "      <td>0.0</td>\n",
       "    </tr>\n",
       "    <tr>\n",
       "      <th>min</th>\n",
       "      <td>1.000000</td>\n",
       "      <td>0.000000</td>\n",
       "      <td>0.0</td>\n",
       "      <td>0.0</td>\n",
       "      <td>0.0</td>\n",
       "      <td>0.0</td>\n",
       "      <td>0.0</td>\n",
       "      <td>0.0</td>\n",
       "      <td>0.000000</td>\n",
       "      <td>0.000000</td>\n",
       "      <td>...</td>\n",
       "      <td>0.0</td>\n",
       "      <td>0.0</td>\n",
       "      <td>0.0</td>\n",
       "      <td>0.0</td>\n",
       "      <td>0.0</td>\n",
       "      <td>0.0</td>\n",
       "      <td>0.0</td>\n",
       "      <td>0.0</td>\n",
       "      <td>0.0</td>\n",
       "      <td>0.0</td>\n",
       "    </tr>\n",
       "    <tr>\n",
       "      <th>25%</th>\n",
       "      <td>1.000000</td>\n",
       "      <td>1.000000</td>\n",
       "      <td>0.0</td>\n",
       "      <td>0.0</td>\n",
       "      <td>0.0</td>\n",
       "      <td>0.0</td>\n",
       "      <td>0.0</td>\n",
       "      <td>0.0</td>\n",
       "      <td>0.000000</td>\n",
       "      <td>0.000000</td>\n",
       "      <td>...</td>\n",
       "      <td>0.0</td>\n",
       "      <td>0.0</td>\n",
       "      <td>0.0</td>\n",
       "      <td>0.0</td>\n",
       "      <td>0.0</td>\n",
       "      <td>0.0</td>\n",
       "      <td>0.0</td>\n",
       "      <td>0.0</td>\n",
       "      <td>0.0</td>\n",
       "      <td>0.0</td>\n",
       "    </tr>\n",
       "    <tr>\n",
       "      <th>50%</th>\n",
       "      <td>2.000000</td>\n",
       "      <td>1.000000</td>\n",
       "      <td>0.0</td>\n",
       "      <td>0.0</td>\n",
       "      <td>0.0</td>\n",
       "      <td>0.0</td>\n",
       "      <td>0.0</td>\n",
       "      <td>0.0</td>\n",
       "      <td>0.000000</td>\n",
       "      <td>0.000000</td>\n",
       "      <td>...</td>\n",
       "      <td>0.0</td>\n",
       "      <td>0.0</td>\n",
       "      <td>0.0</td>\n",
       "      <td>0.0</td>\n",
       "      <td>0.0</td>\n",
       "      <td>0.0</td>\n",
       "      <td>0.0</td>\n",
       "      <td>0.0</td>\n",
       "      <td>0.0</td>\n",
       "      <td>0.0</td>\n",
       "    </tr>\n",
       "    <tr>\n",
       "      <th>75%</th>\n",
       "      <td>3.000000</td>\n",
       "      <td>1.000000</td>\n",
       "      <td>0.0</td>\n",
       "      <td>0.0</td>\n",
       "      <td>0.0</td>\n",
       "      <td>0.0</td>\n",
       "      <td>0.0</td>\n",
       "      <td>0.0</td>\n",
       "      <td>0.000000</td>\n",
       "      <td>0.000000</td>\n",
       "      <td>...</td>\n",
       "      <td>0.0</td>\n",
       "      <td>0.0</td>\n",
       "      <td>0.0</td>\n",
       "      <td>0.0</td>\n",
       "      <td>0.0</td>\n",
       "      <td>0.0</td>\n",
       "      <td>0.0</td>\n",
       "      <td>0.0</td>\n",
       "      <td>0.0</td>\n",
       "      <td>0.0</td>\n",
       "    </tr>\n",
       "    <tr>\n",
       "      <th>max</th>\n",
       "      <td>5.000000</td>\n",
       "      <td>1.000000</td>\n",
       "      <td>0.0</td>\n",
       "      <td>0.0</td>\n",
       "      <td>0.0</td>\n",
       "      <td>0.0</td>\n",
       "      <td>0.0</td>\n",
       "      <td>0.0</td>\n",
       "      <td>1.000000</td>\n",
       "      <td>1.000000</td>\n",
       "      <td>...</td>\n",
       "      <td>0.0</td>\n",
       "      <td>0.0</td>\n",
       "      <td>0.0</td>\n",
       "      <td>0.0</td>\n",
       "      <td>0.0</td>\n",
       "      <td>0.0</td>\n",
       "      <td>0.0</td>\n",
       "      <td>0.0</td>\n",
       "      <td>0.0</td>\n",
       "      <td>0.0</td>\n",
       "    </tr>\n",
       "  </tbody>\n",
       "</table>\n",
       "<p>8 rows × 148 columns</p>\n",
       "</div>"
      ],
      "text/plain": [
       "       Repeat Instance  None (choice=Yes)  \\\n",
       "count        56.000000          56.000000   \n",
       "mean          2.232143           0.892857   \n",
       "std           1.159797           0.312094   \n",
       "min           1.000000           0.000000   \n",
       "25%           1.000000           1.000000   \n",
       "50%           2.000000           1.000000   \n",
       "75%           3.000000           1.000000   \n",
       "max           5.000000           1.000000   \n",
       "\n",
       "       None (choice=Slightly Uncomfortable)  \\\n",
       "count                                  56.0   \n",
       "mean                                    0.0   \n",
       "std                                     0.0   \n",
       "min                                     0.0   \n",
       "25%                                     0.0   \n",
       "50%                                     0.0   \n",
       "75%                                     0.0   \n",
       "max                                     0.0   \n",
       "\n",
       "       None (choice=Moderately uncomfortable)  \\\n",
       "count                                    56.0   \n",
       "mean                                      0.0   \n",
       "std                                       0.0   \n",
       "min                                       0.0   \n",
       "25%                                       0.0   \n",
       "50%                                       0.0   \n",
       "75%                                       0.0   \n",
       "max                                       0.0   \n",
       "\n",
       "       None (choice=very uncomfortable)  None (choice=not at all)  \\\n",
       "count                              56.0                      56.0   \n",
       "mean                                0.0                       0.0   \n",
       "std                                 0.0                       0.0   \n",
       "min                                 0.0                       0.0   \n",
       "25%                                 0.0                       0.0   \n",
       "50%                                 0.0                       0.0   \n",
       "75%                                 0.0                       0.0   \n",
       "max                                 0.0                       0.0   \n",
       "\n",
       "       None (choice=slightly interfered)  \\\n",
       "count                               56.0   \n",
       "mean                                 0.0   \n",
       "std                                  0.0   \n",
       "min                                  0.0   \n",
       "25%                                  0.0   \n",
       "50%                                  0.0   \n",
       "75%                                  0.0   \n",
       "max                                  0.0   \n",
       "\n",
       "       None (choice=substantially interfered)  Neck (choice=Yes)  \\\n",
       "count                                    56.0          56.000000   \n",
       "mean                                      0.0           0.035714   \n",
       "std                                       0.0           0.187256   \n",
       "min                                       0.0           0.000000   \n",
       "25%                                       0.0           0.000000   \n",
       "50%                                       0.0           0.000000   \n",
       "75%                                       0.0           0.000000   \n",
       "max                                       0.0           1.000000   \n",
       "\n",
       "       Neck (choice=Slightly Uncomfortable)  ...  \\\n",
       "count                             56.000000  ...   \n",
       "mean                               0.017857  ...   \n",
       "std                                0.133631  ...   \n",
       "min                                0.000000  ...   \n",
       "25%                                0.000000  ...   \n",
       "50%                                0.000000  ...   \n",
       "75%                                0.000000  ...   \n",
       "max                                1.000000  ...   \n",
       "\n",
       "       foot (right) (choice=not at all)  \\\n",
       "count                              56.0   \n",
       "mean                                0.0   \n",
       "std                                 0.0   \n",
       "min                                 0.0   \n",
       "25%                                 0.0   \n",
       "50%                                 0.0   \n",
       "75%                                 0.0   \n",
       "max                                 0.0   \n",
       "\n",
       "       foot (right) (choice=slightly interfered)  \\\n",
       "count                                       56.0   \n",
       "mean                                         0.0   \n",
       "std                                          0.0   \n",
       "min                                          0.0   \n",
       "25%                                          0.0   \n",
       "50%                                          0.0   \n",
       "75%                                          0.0   \n",
       "max                                          0.0   \n",
       "\n",
       "       foot (right) (choice=substantially interfered)  \\\n",
       "count                                            56.0   \n",
       "mean                                              0.0   \n",
       "std                                               0.0   \n",
       "min                                               0.0   \n",
       "25%                                               0.0   \n",
       "50%                                               0.0   \n",
       "75%                                               0.0   \n",
       "max                                               0.0   \n",
       "\n",
       "       foot (left) (choice=Yes)  foot (left) (choice=Slightly Uncomfortable)  \\\n",
       "count                      56.0                                         56.0   \n",
       "mean                        0.0                                          0.0   \n",
       "std                         0.0                                          0.0   \n",
       "min                         0.0                                          0.0   \n",
       "25%                         0.0                                          0.0   \n",
       "50%                         0.0                                          0.0   \n",
       "75%                         0.0                                          0.0   \n",
       "max                         0.0                                          0.0   \n",
       "\n",
       "       foot (left) (choice=Moderately uncomfortable)  \\\n",
       "count                                           56.0   \n",
       "mean                                             0.0   \n",
       "std                                              0.0   \n",
       "min                                              0.0   \n",
       "25%                                              0.0   \n",
       "50%                                              0.0   \n",
       "75%                                              0.0   \n",
       "max                                              0.0   \n",
       "\n",
       "       foot (left) (choice=very uncomfortable)  \\\n",
       "count                                     56.0   \n",
       "mean                                       0.0   \n",
       "std                                        0.0   \n",
       "min                                        0.0   \n",
       "25%                                        0.0   \n",
       "50%                                        0.0   \n",
       "75%                                        0.0   \n",
       "max                                        0.0   \n",
       "\n",
       "       foot (left) (choice=not at all)  \\\n",
       "count                             56.0   \n",
       "mean                               0.0   \n",
       "std                                0.0   \n",
       "min                                0.0   \n",
       "25%                                0.0   \n",
       "50%                                0.0   \n",
       "75%                                0.0   \n",
       "max                                0.0   \n",
       "\n",
       "       foot (left) (choice=slightly interfered)  \\\n",
       "count                                      56.0   \n",
       "mean                                        0.0   \n",
       "std                                         0.0   \n",
       "min                                         0.0   \n",
       "25%                                         0.0   \n",
       "50%                                         0.0   \n",
       "75%                                         0.0   \n",
       "max                                         0.0   \n",
       "\n",
       "       foot (left) (choice=substantially interfered)  \n",
       "count                                           56.0  \n",
       "mean                                             0.0  \n",
       "std                                              0.0  \n",
       "min                                              0.0  \n",
       "25%                                              0.0  \n",
       "50%                                              0.0  \n",
       "75%                                              0.0  \n",
       "max                                              0.0  \n",
       "\n",
       "[8 rows x 148 columns]"
      ]
     },
     "execution_count": 31,
     "metadata": {},
     "output_type": "execute_result"
    }
   ],
   "source": [
    "# Look at the descriptive statistics of the discomfort data\n",
    "discomfort_data.describe()"
   ]
  },
  {
   "cell_type": "markdown",
   "metadata": {},
   "source": [
    "Sum up the discomforts for any and showcase the percentage of lead vs. rampart."
   ]
  },
  {
   "cell_type": "code",
   "execution_count": 48,
   "metadata": {},
   "outputs": [
    {
     "name": "stdout",
     "output_type": "stream",
     "text": [
      "Total instances for Lead Operators: 21\n",
      "Total instances for Rampart Operators: 19\n"
     ]
    }
   ],
   "source": [
    "# Count the total instances for Lead_Operators and Rampart_Operators\n",
    "lead_instances = discomfort_data[discomfort_data['Participant ID'].isin(Lead_Operators)].shape[0]\n",
    "rampart_instances = discomfort_data[discomfort_data['Participant ID'].isin(Rampart_Operators)].shape[0]\n",
    "\n",
    "# Display the counts\n",
    "print(f\"Total instances for Lead Operators: {lead_instances}\")\n",
    "print(f\"Total instances for Rampart Operators: {rampart_instances}\")"
   ]
  },
  {
   "cell_type": "code",
   "execution_count": 49,
   "metadata": {},
   "outputs": [
    {
     "name": "stdout",
     "output_type": "stream",
     "text": [
      "Total discomfort for Lead Operators: 42\n",
      "Total discomfort for Rampart Operators: 29\n"
     ]
    }
   ],
   "source": [
    "# Calculate total discomfort for Lead Operators\n",
    "lead_discomfort_total = discomfort_data[discomfort_data['Participant ID'].isin(Lead_Operators)].iloc[:, 3:-1].sum().sum()\n",
    "\n",
    "# Calculate total discomfort for Rampart Operators\n",
    "rampart_discomfort_total = discomfort_data[discomfort_data['Participant ID'].isin(Rampart_Operators)].iloc[:, 3:-1].sum().sum()\n",
    "\n",
    "# Display the results\n",
    "print(f\"Total discomfort for Lead Operators: {lead_discomfort_total}\")\n",
    "print(f\"Total discomfort for Rampart Operators: {rampart_discomfort_total}\")"
   ]
  },
  {
   "cell_type": "code",
   "execution_count": 50,
   "metadata": {},
   "outputs": [
    {
     "name": "stdout",
     "output_type": "stream",
     "text": [
      "Lead Discomfort:\n",
      "None (choice=Yes)                                17\n",
      "None (choice=Slightly Uncomfortable)              0\n",
      "None (choice=Moderately uncomfortable)            0\n",
      "None (choice=very uncomfortable)                  0\n",
      "None (choice=not at all)                          0\n",
      "                                                 ..\n",
      "foot (left) (choice=Moderately uncomfortable)     0\n",
      "foot (left) (choice=very uncomfortable)           0\n",
      "foot (left) (choice=not at all)                   0\n",
      "foot (left) (choice=slightly interfered)          0\n",
      "foot (left) (choice=substantially interfered)     0\n",
      "Length: 147, dtype: int64\n",
      "\n",
      "Rampart Discomfort:\n",
      "None (choice=Yes)                                17\n",
      "None (choice=Slightly Uncomfortable)              0\n",
      "None (choice=Moderately uncomfortable)            0\n",
      "None (choice=very uncomfortable)                  0\n",
      "None (choice=not at all)                          0\n",
      "                                                 ..\n",
      "foot (left) (choice=Moderately uncomfortable)     0\n",
      "foot (left) (choice=very uncomfortable)           0\n",
      "foot (left) (choice=not at all)                   0\n",
      "foot (left) (choice=slightly interfered)          0\n",
      "foot (left) (choice=substantially interfered)     0\n",
      "Length: 147, dtype: int64\n"
     ]
    }
   ],
   "source": [
    "# Extract discomfort columns (excluding metadata columns)\n",
    "discomfort_columns = discomfort_data.columns[3:-1]\n",
    "\n",
    "# Initialize dictionaries to store results\n",
    "lead_discomfort = {}\n",
    "rampart_discomfort = {}\n",
    "\n",
    "# Calculate sums for each column\n",
    "for column in discomfort_columns:\n",
    "    lead_discomfort[column] = discomfort_data[discomfort_data['Participant ID'].isin(Lead_Operators)][column].sum()\n",
    "    rampart_discomfort[column] = discomfort_data[discomfort_data['Participant ID'].isin(Rampart_Operators)][column].sum()\n",
    "\n",
    "# Display the results\n",
    "print(\"Lead Discomfort:\")\n",
    "print(pd.Series(lead_discomfort))\n",
    "\n",
    "print(\"\\nRampart Discomfort:\")\n",
    "print(pd.Series(rampart_discomfort))"
   ]
  },
  {
   "cell_type": "code",
   "execution_count": 51,
   "metadata": {},
   "outputs": [],
   "source": [
    "# Calculate lead discomfort percentages\n",
    "lead_discomfort_percentage = {k: (v / lead_instances) * 100 for k, v in lead_discomfort.items()}\n",
    "\n",
    "# Calculate rampart discomfort percentages\n",
    "rampart_discomfort_percentage = {k: (v / rampart_instances) * 100 for k, v in rampart_discomfort.items()}"
   ]
  },
  {
   "cell_type": "code",
   "execution_count": 52,
   "metadata": {},
   "outputs": [
    {
     "name": "stdout",
     "output_type": "stream",
     "text": [
      "Non-zero Lead Discomfort Percentages:\n",
      "None (choice=Yes)                                     80.952381\n",
      "Neck (choice=Yes)                                      9.523810\n",
      "Neck (choice=Slightly Uncomfortable)                   4.761905\n",
      "Neck (choice=not at all)                               9.523810\n",
      "Shoulder (right) (choice=Yes)                          9.523810\n",
      "Shoulder (right) (choice=Slightly Uncomfortable)       4.761905\n",
      "Shoulder (right) (choice=Moderately uncomfortable)     4.761905\n",
      "Shoulder (right) (choice=not at all)                   4.761905\n",
      "Shoulder (right) (choice=slightly interfered)          4.761905\n",
      "Shoulder (left) (choice=Yes)                           9.523810\n",
      "Shoulder (left) (choice=Slightly Uncomfortable)        4.761905\n",
      "Shoulder (left) (choice=Moderately uncomfortable)      4.761905\n",
      "Shoulder (left) (choice=not at all)                    4.761905\n",
      "Shoulder (left) (choice=slightly interfered)           4.761905\n",
      "upper back (choice=Yes)                                4.761905\n",
      "upper back (choice=very uncomfortable)                 4.761905\n",
      "upper back (choice=slightly interfered)                4.761905\n",
      "lower back (choice=Yes)                                9.523810\n",
      "lower back (choice=very uncomfortable)                 4.761905\n",
      "lower back (choice=not at all)                         4.761905\n",
      "lower back (choice=slightly interfered)                4.761905\n",
      "dtype: float64\n",
      "\n",
      "Non-zero Rampart Discomfort Percentages:\n",
      "None (choice=Yes)                                   89.473684\n",
      "Shoulder (right) (choice=Yes)                       10.526316\n",
      "Shoulder (right) (choice=Slightly Uncomfortable)    10.526316\n",
      "Shoulder (right) (choice=not at all)                10.526316\n",
      "Shoulder (left) (choice=Yes)                        10.526316\n",
      "Shoulder (left) (choice=Slightly Uncomfortable)     10.526316\n",
      "Shoulder (left) (choice=not at all)                 10.526316\n",
      "dtype: float64\n"
     ]
    }
   ],
   "source": [
    "# Filter non-zero percentages for lead discomfort\n",
    "non_zero_lead_discomfort = {k: v for k, v in lead_discomfort_percentage.items() if v != 0}\n",
    "\n",
    "# Filter non-zero percentages for rampart discomfort\n",
    "non_zero_rampart_discomfort = {k: v for k, v in rampart_discomfort_percentage.items() if v != 0}\n",
    "\n",
    "# Display the results\n",
    "print(\"Non-zero Lead Discomfort Percentages:\")\n",
    "print(pd.Series(non_zero_lead_discomfort))\n",
    "\n",
    "print(\"\\nNon-zero Rampart Discomfort Percentages:\")\n",
    "print(pd.Series(non_zero_rampart_discomfort))"
   ]
  },
  {
   "cell_type": "code",
   "execution_count": 57,
   "metadata": {},
   "outputs": [
    {
     "data": {
      "image/png": "[encoded data removed]",
      "text/plain": [
       "<Figure size 1200x800 with 1 Axes>"
      ]
     },
     "metadata": {},
     "output_type": "display_data"
    }
   ],
   "source": [
    "# Convert the dictionaries to DataFrames for easier plotting\n",
    "lead_df = pd.DataFrame(list(non_zero_lead_discomfort.items()), columns=['Discomfort', 'Percentage'])\n",
    "rampart_df = pd.DataFrame(list(non_zero_rampart_discomfort.items()), columns=['Discomfort', 'Percentage'])\n",
    "\n",
    "# Merge the two DataFrames on the 'Discomfort' column\n",
    "merged_df = pd.merge(lead_df, rampart_df, on='Discomfort', suffixes=('_Lead', '_Rampart'))\n",
    "\n",
    "# Plot the data\n",
    "plt.figure(figsize=(12, 8))\n",
    "x = range(len(merged_df))\n",
    "plt.bar(x, merged_df['Percentage_Lead'], width=0.4, label='Lead Operators', align='center')\n",
    "plt.bar(x, merged_df['Percentage_Rampart'], width=0.4, label='Rampart Operators', align='edge')\n",
    "\n",
    "# Add labels and title\n",
    "plt.xticks(x, merged_df['Discomfort'], rotation=90)\n",
    "plt.ylabel('Percentage')\n",
    "plt.title('Discomfort Percentages: Lead vs Rampart Operators')\n",
    "plt.legend()\n",
    "\n",
    "# Show the plot\n",
    "plt.tight_layout()\n",
    "plt.show()"
   ]
  },
  {
   "cell_type": "code",
   "execution_count": 67,
   "metadata": {},
   "outputs": [
    {
     "data": {
      "application/vnd.microsoft.datawrangler.viewer.v0+json": {
       "columns": [
        {
         "name": "index",
         "rawType": "int64",
         "type": "integer"
        },
        {
         "name": "Discomfort",
         "rawType": "object",
         "type": "string"
        },
        {
         "name": "Percentage_Lead",
         "rawType": "float64",
         "type": "float"
        },
        {
         "name": "Percentage_Rampart",
         "rawType": "float64",
         "type": "float"
        },
        {
         "name": "Percentage_Difference",
         "rawType": "float64",
         "type": "float"
        }
       ],
       "conversionMethod": "pd.DataFrame",
       "ref": "6163072f-b8b5-425f-a4d3-93117aeea1aa",
       "rows": [
        [
         "0",
         "None (choice=Yes)",
         "80.95238095238095",
         "89.47368421052632",
         "-8.521303258145366"
        ],
        [
         "1",
         "Shoulder (right) (choice=Yes)",
         "9.523809523809524",
         "10.526315789473683",
         "-1.0025062656641595"
        ],
        [
         "2",
         "Shoulder (right) (choice=Slightly Uncomfortable)",
         "4.761904761904762",
         "10.526315789473683",
         "-5.764411027568921"
        ],
        [
         "3",
         "Shoulder (right) (choice=not at all)",
         "4.761904761904762",
         "10.526315789473683",
         "-5.764411027568921"
        ],
        [
         "4",
         "Shoulder (left) (choice=Yes)",
         "9.523809523809524",
         "10.526315789473683",
         "-1.0025062656641595"
        ],
        [
         "5",
         "Shoulder (left) (choice=Slightly Uncomfortable)",
         "4.761904761904762",
         "10.526315789473683",
         "-5.764411027568921"
        ],
        [
         "6",
         "Shoulder (left) (choice=not at all)",
         "4.761904761904762",
         "10.526315789473683",
         "-5.764411027568921"
        ]
       ],
       "shape": {
        "columns": 4,
        "rows": 7
       }
      },
      "text/html": [
       "<div>\n",
       "<style scoped>\n",
       "    .dataframe tbody tr th:only-of-type {\n",
       "        vertical-align: middle;\n",
       "    }\n",
       "\n",
       "    .dataframe tbody tr th {\n",
       "        vertical-align: top;\n",
       "    }\n",
       "\n",
       "    .dataframe thead th {\n",
       "        text-align: right;\n",
       "    }\n",
       "</style>\n",
       "<table border=\"1\" class=\"dataframe\">\n",
       "  <thead>\n",
       "    <tr style=\"text-align: right;\">\n",
       "      <th></th>\n",
       "      <th>Discomfort</th>\n",
       "      <th>Percentage_Lead</th>\n",
       "      <th>Percentage_Rampart</th>\n",
       "      <th>Percentage_Difference</th>\n",
       "    </tr>\n",
       "  </thead>\n",
       "  <tbody>\n",
       "    <tr>\n",
       "      <th>0</th>\n",
       "      <td>None (choice=Yes)</td>\n",
       "      <td>80.952381</td>\n",
       "      <td>89.473684</td>\n",
       "      <td>-8.521303</td>\n",
       "    </tr>\n",
       "    <tr>\n",
       "      <th>1</th>\n",
       "      <td>Shoulder (right) (choice=Yes)</td>\n",
       "      <td>9.523810</td>\n",
       "      <td>10.526316</td>\n",
       "      <td>-1.002506</td>\n",
       "    </tr>\n",
       "    <tr>\n",
       "      <th>2</th>\n",
       "      <td>Shoulder (right) (choice=Slightly Uncomfortable)</td>\n",
       "      <td>4.761905</td>\n",
       "      <td>10.526316</td>\n",
       "      <td>-5.764411</td>\n",
       "    </tr>\n",
       "    <tr>\n",
       "      <th>3</th>\n",
       "      <td>Shoulder (right) (choice=not at all)</td>\n",
       "      <td>4.761905</td>\n",
       "      <td>10.526316</td>\n",
       "      <td>-5.764411</td>\n",
       "    </tr>\n",
       "    <tr>\n",
       "      <th>4</th>\n",
       "      <td>Shoulder (left) (choice=Yes)</td>\n",
       "      <td>9.523810</td>\n",
       "      <td>10.526316</td>\n",
       "      <td>-1.002506</td>\n",
       "    </tr>\n",
       "    <tr>\n",
       "      <th>5</th>\n",
       "      <td>Shoulder (left) (choice=Slightly Uncomfortable)</td>\n",
       "      <td>4.761905</td>\n",
       "      <td>10.526316</td>\n",
       "      <td>-5.764411</td>\n",
       "    </tr>\n",
       "    <tr>\n",
       "      <th>6</th>\n",
       "      <td>Shoulder (left) (choice=not at all)</td>\n",
       "      <td>4.761905</td>\n",
       "      <td>10.526316</td>\n",
       "      <td>-5.764411</td>\n",
       "    </tr>\n",
       "  </tbody>\n",
       "</table>\n",
       "</div>"
      ],
      "text/plain": [
       "                                         Discomfort  Percentage_Lead  \\\n",
       "0                                 None (choice=Yes)        80.952381   \n",
       "1                     Shoulder (right) (choice=Yes)         9.523810   \n",
       "2  Shoulder (right) (choice=Slightly Uncomfortable)         4.761905   \n",
       "3              Shoulder (right) (choice=not at all)         4.761905   \n",
       "4                      Shoulder (left) (choice=Yes)         9.523810   \n",
       "5   Shoulder (left) (choice=Slightly Uncomfortable)         4.761905   \n",
       "6               Shoulder (left) (choice=not at all)         4.761905   \n",
       "\n",
       "   Percentage_Rampart  Percentage_Difference  \n",
       "0           89.473684              -8.521303  \n",
       "1           10.526316              -1.002506  \n",
       "2           10.526316              -5.764411  \n",
       "3           10.526316              -5.764411  \n",
       "4           10.526316              -1.002506  \n",
       "5           10.526316              -5.764411  \n",
       "6           10.526316              -5.764411  "
      ]
     },
     "execution_count": 67,
     "metadata": {},
     "output_type": "execute_result"
    }
   ],
   "source": [
    "merged_df"
   ]
  },
  {
   "cell_type": "code",
   "execution_count": 69,
   "metadata": {},
   "outputs": [
    {
     "name": "stdout",
     "output_type": "stream",
     "text": [
      "           Multiple Comparison of Means - Tukey HSD, FWER=0.05            \n",
      "==========================================================================\n",
      "     group1           group2       meandiff p-adj   lower    upper  reject\n",
      "--------------------------------------------------------------------------\n",
      "Percentage_Lead Percentage_Rampart   4.7977 0.7628 -29.0618 38.6572  False\n",
      "--------------------------------------------------------------------------\n"
     ]
    }
   ],
   "source": [
    "from statsmodels.stats.multicomp import pairwise_tukeyhsd\n",
    "\n",
    "# Prepare the data for Tukey HSD test\n",
    "data = pd.melt(merged_df, id_vars=['Discomfort'], value_vars=['Percentage_Lead', 'Percentage_Rampart'], \n",
    "               var_name='Group', value_name='Percentage')\n",
    "\n",
    "# Perform Tukey HSD test\n",
    "tukey_result = pairwise_tukeyhsd(endog=data['Percentage'], groups=data['Group'], alpha=0.05)\n",
    "\n",
    "# Display the results\n",
    "print(tukey_result)"
   ]
  },
  {
   "cell_type": "markdown",
   "metadata": {},
   "source": [
    "### 4. Radiation Data:"
   ]
  },
  {
   "cell_type": "code",
   "execution_count": 32,
   "metadata": {},
   "outputs": [
    {
     "data": {
      "application/vnd.microsoft.datawrangler.viewer.v0+json": {
       "columns": [
        {
         "name": "index",
         "rawType": "int64",
         "type": "integer"
        },
        {
         "name": "Total radiation (mGy) from procedure log",
         "rawType": "float64",
         "type": "float"
        },
        {
         "name": "Participant radiation (mrem)",
         "rawType": "float64",
         "type": "float"
        },
        {
         "name": "Control Radiation (mrem)",
         "rawType": "float64",
         "type": "float"
        },
        {
         "name": "Total contrast (mL)",
         "rawType": "float64",
         "type": "float"
        }
       ],
       "conversionMethod": "pd.DataFrame",
       "ref": "4e638348-2d1d-4401-a9cd-83fd2006d014",
       "rows": [
        [
         "0",
         "456.0",
         "0.6",
         "61.9",
         "70.0"
        ],
        [
         "1",
         "331.0",
         "0.0",
         "18.3",
         "90.0"
        ],
        [
         "2",
         "4276.7",
         "0.5",
         "569.8",
         "190.0"
        ],
        [
         "3",
         "798.6",
         null,
         "61.0",
         "75.0"
        ],
        [
         "5",
         "3668.8",
         "0.3",
         "95.0",
         "300.0"
        ]
       ],
       "shape": {
        "columns": 4,
        "rows": 5
       }
      },
      "text/html": [
       "<div>\n",
       "<style scoped>\n",
       "    .dataframe tbody tr th:only-of-type {\n",
       "        vertical-align: middle;\n",
       "    }\n",
       "\n",
       "    .dataframe tbody tr th {\n",
       "        vertical-align: top;\n",
       "    }\n",
       "\n",
       "    .dataframe thead th {\n",
       "        text-align: right;\n",
       "    }\n",
       "</style>\n",
       "<table border=\"1\" class=\"dataframe\">\n",
       "  <thead>\n",
       "    <tr style=\"text-align: right;\">\n",
       "      <th></th>\n",
       "      <th>Total radiation (mGy) from procedure log</th>\n",
       "      <th>Participant radiation (mrem)</th>\n",
       "      <th>Control Radiation (mrem)</th>\n",
       "      <th>Total contrast (mL)</th>\n",
       "    </tr>\n",
       "  </thead>\n",
       "  <tbody>\n",
       "    <tr>\n",
       "      <th>0</th>\n",
       "      <td>456.0</td>\n",
       "      <td>0.6</td>\n",
       "      <td>61.9</td>\n",
       "      <td>70.0</td>\n",
       "    </tr>\n",
       "    <tr>\n",
       "      <th>1</th>\n",
       "      <td>331.0</td>\n",
       "      <td>0.0</td>\n",
       "      <td>18.3</td>\n",
       "      <td>90.0</td>\n",
       "    </tr>\n",
       "    <tr>\n",
       "      <th>2</th>\n",
       "      <td>4276.7</td>\n",
       "      <td>0.5</td>\n",
       "      <td>569.8</td>\n",
       "      <td>190.0</td>\n",
       "    </tr>\n",
       "    <tr>\n",
       "      <th>3</th>\n",
       "      <td>798.6</td>\n",
       "      <td>NaN</td>\n",
       "      <td>61.0</td>\n",
       "      <td>75.0</td>\n",
       "    </tr>\n",
       "    <tr>\n",
       "      <th>5</th>\n",
       "      <td>3668.8</td>\n",
       "      <td>0.3</td>\n",
       "      <td>95.0</td>\n",
       "      <td>300.0</td>\n",
       "    </tr>\n",
       "  </tbody>\n",
       "</table>\n",
       "</div>"
      ],
      "text/plain": [
       "   Total radiation (mGy) from procedure log  Participant radiation (mrem)  \\\n",
       "0                                     456.0                           0.6   \n",
       "1                                     331.0                           0.0   \n",
       "2                                    4276.7                           0.5   \n",
       "3                                     798.6                           NaN   \n",
       "5                                    3668.8                           0.3   \n",
       "\n",
       "   Control Radiation (mrem)  Total contrast (mL)  \n",
       "0                      61.9                 70.0  \n",
       "1                      18.3                 90.0  \n",
       "2                     569.8                190.0  \n",
       "3                      61.0                 75.0  \n",
       "5                      95.0                300.0  "
      ]
     },
     "execution_count": 32,
     "metadata": {},
     "output_type": "execute_result"
    }
   ],
   "source": [
    "# List the radiation columns\n",
    "radiation_columns = [ 'Total radiation (mGy) from procedure log',\n",
    "       'Participant radiation (mrem)', 'Control Radiation (mrem)',\n",
    "       'Total contrast (mL)']\n",
    "# Make a dataframe\n",
    "radiation_data = case_data[radiation_columns]\n",
    "radiation_data.head()"
   ]
  },
  {
   "cell_type": "code",
   "execution_count": 33,
   "metadata": {},
   "outputs": [
    {
     "data": {
      "application/vnd.microsoft.datawrangler.viewer.v0+json": {
       "columns": [
        {
         "name": "index",
         "rawType": "object",
         "type": "string"
        },
        {
         "name": "Total radiation (mGy) from procedure log",
         "rawType": "float64",
         "type": "float"
        },
        {
         "name": "Participant radiation (mrem)",
         "rawType": "float64",
         "type": "float"
        },
        {
         "name": "Control Radiation (mrem)",
         "rawType": "float64",
         "type": "float"
        },
        {
         "name": "Total contrast (mL)",
         "rawType": "float64",
         "type": "float"
        }
       ],
       "conversionMethod": "pd.DataFrame",
       "ref": "bd5a03c6-b4d4-4d41-aab9-3dbc3d1afcd7",
       "rows": [
        [
         "count",
         "61.0",
         "59.0",
         "60.0",
         "59.0"
        ],
        [
         "mean",
         "715.8737704918033",
         "7.042372881355933",
         "58.51333333333333",
         "88.40677966101696"
        ],
        [
         "std",
         "872.8684459683562",
         "48.46946142494343",
         "94.88650752733216",
         "63.73818176974209"
        ],
        [
         "min",
         "14.0",
         "0.0",
         "0.3",
         "0.0"
        ],
        [
         "25%",
         "180.0",
         "0.1",
         "11.424999999999999",
         "45.0"
        ],
        [
         "50%",
         "423.0",
         "0.3",
         "27.9",
         "75.0"
        ],
        [
         "75%",
         "798.6",
         "0.75",
         "63.175",
         "105.0"
        ],
        [
         "max",
         "4276.7",
         "372.9",
         "569.8",
         "300.0"
        ]
       ],
       "shape": {
        "columns": 4,
        "rows": 8
       }
      },
      "text/html": [
       "<div>\n",
       "<style scoped>\n",
       "    .dataframe tbody tr th:only-of-type {\n",
       "        vertical-align: middle;\n",
       "    }\n",
       "\n",
       "    .dataframe tbody tr th {\n",
       "        vertical-align: top;\n",
       "    }\n",
       "\n",
       "    .dataframe thead th {\n",
       "        text-align: right;\n",
       "    }\n",
       "</style>\n",
       "<table border=\"1\" class=\"dataframe\">\n",
       "  <thead>\n",
       "    <tr style=\"text-align: right;\">\n",
       "      <th></th>\n",
       "      <th>Total radiation (mGy) from procedure log</th>\n",
       "      <th>Participant radiation (mrem)</th>\n",
       "      <th>Control Radiation (mrem)</th>\n",
       "      <th>Total contrast (mL)</th>\n",
       "    </tr>\n",
       "  </thead>\n",
       "  <tbody>\n",
       "    <tr>\n",
       "      <th>count</th>\n",
       "      <td>61.000000</td>\n",
       "      <td>59.000000</td>\n",
       "      <td>60.000000</td>\n",
       "      <td>59.000000</td>\n",
       "    </tr>\n",
       "    <tr>\n",
       "      <th>mean</th>\n",
       "      <td>715.873770</td>\n",
       "      <td>7.042373</td>\n",
       "      <td>58.513333</td>\n",
       "      <td>88.406780</td>\n",
       "    </tr>\n",
       "    <tr>\n",
       "      <th>std</th>\n",
       "      <td>872.868446</td>\n",
       "      <td>48.469461</td>\n",
       "      <td>94.886508</td>\n",
       "      <td>63.738182</td>\n",
       "    </tr>\n",
       "    <tr>\n",
       "      <th>min</th>\n",
       "      <td>14.000000</td>\n",
       "      <td>0.000000</td>\n",
       "      <td>0.300000</td>\n",
       "      <td>0.000000</td>\n",
       "    </tr>\n",
       "    <tr>\n",
       "      <th>25%</th>\n",
       "      <td>180.000000</td>\n",
       "      <td>0.100000</td>\n",
       "      <td>11.425000</td>\n",
       "      <td>45.000000</td>\n",
       "    </tr>\n",
       "    <tr>\n",
       "      <th>50%</th>\n",
       "      <td>423.000000</td>\n",
       "      <td>0.300000</td>\n",
       "      <td>27.900000</td>\n",
       "      <td>75.000000</td>\n",
       "    </tr>\n",
       "    <tr>\n",
       "      <th>75%</th>\n",
       "      <td>798.600000</td>\n",
       "      <td>0.750000</td>\n",
       "      <td>63.175000</td>\n",
       "      <td>105.000000</td>\n",
       "    </tr>\n",
       "    <tr>\n",
       "      <th>max</th>\n",
       "      <td>4276.700000</td>\n",
       "      <td>372.900000</td>\n",
       "      <td>569.800000</td>\n",
       "      <td>300.000000</td>\n",
       "    </tr>\n",
       "  </tbody>\n",
       "</table>\n",
       "</div>"
      ],
      "text/plain": [
       "       Total radiation (mGy) from procedure log  Participant radiation (mrem)  \\\n",
       "count                                 61.000000                     59.000000   \n",
       "mean                                 715.873770                      7.042373   \n",
       "std                                  872.868446                     48.469461   \n",
       "min                                   14.000000                      0.000000   \n",
       "25%                                  180.000000                      0.100000   \n",
       "50%                                  423.000000                      0.300000   \n",
       "75%                                  798.600000                      0.750000   \n",
       "max                                 4276.700000                    372.900000   \n",
       "\n",
       "       Control Radiation (mrem)  Total contrast (mL)  \n",
       "count                 60.000000            59.000000  \n",
       "mean                  58.513333            88.406780  \n",
       "std                   94.886508            63.738182  \n",
       "min                    0.300000             0.000000  \n",
       "25%                   11.425000            45.000000  \n",
       "50%                   27.900000            75.000000  \n",
       "75%                   63.175000           105.000000  \n",
       "max                  569.800000           300.000000  "
      ]
     },
     "execution_count": 33,
     "metadata": {},
     "output_type": "execute_result"
    }
   ],
   "source": [
    "# Descriptive Statistics for the radiation data:\n",
    "radiation_data.describe()"
   ]
  },
  {
   "cell_type": "markdown",
   "metadata": {},
   "source": [
    "# Largest Age Difference in the Population:"
   ]
  },
  {
   "cell_type": "code",
   "execution_count": 34,
   "metadata": {},
   "outputs": [
    {
     "data": {
      "application/vnd.microsoft.datawrangler.viewer.v0+json": {
       "columns": [
        {
         "name": "index",
         "rawType": "int64",
         "type": "integer"
        },
        {
         "name": "Participant ID",
         "rawType": "int64",
         "type": "integer"
        },
        {
         "name": "Age",
         "rawType": "int64",
         "type": "integer"
        },
        {
         "name": "Race ",
         "rawType": "object",
         "type": "string"
        },
        {
         "name": "Ethnicity ",
         "rawType": "object",
         "type": "string"
        },
        {
         "name": "Gender",
         "rawType": "object",
         "type": "string"
        },
        {
         "name": "Role in cath lab",
         "rawType": "object",
         "type": "string"
        },
        {
         "name": "How many years has the participant worked in the cardiac catheterization laboratory?",
         "rawType": "float64",
         "type": "float"
        },
        {
         "name": "Participant Height (in)",
         "rawType": "int64",
         "type": "integer"
        },
        {
         "name": "Participant Weight (lbs)",
         "rawType": "int64",
         "type": "integer"
        },
        {
         "name": "Weight of Lead (lbs)",
         "rawType": "float64",
         "type": "float"
        },
        {
         "name": "Is the lead...",
         "rawType": "object",
         "type": "string"
        },
        {
         "name": "Do you exercise...",
         "rawType": "object",
         "type": "string"
        },
        {
         "name": "Cardio",
         "rawType": "object",
         "type": "string"
        },
        {
         "name": "Upper Body Strength Training",
         "rawType": "object",
         "type": "string"
        },
        {
         "name": "Lower body strength training",
         "rawType": "object",
         "type": "string"
        },
        {
         "name": "Abdominal strength training",
         "rawType": "object",
         "type": "string"
        },
        {
         "name": "Yoga",
         "rawType": "object",
         "type": "string"
        },
        {
         "name": "Stretching",
         "rawType": "object",
         "type": "string"
        },
        {
         "name": "Pilates",
         "rawType": "object",
         "type": "string"
        },
        {
         "name": "Other Exercise",
         "rawType": "object",
         "type": "string"
        },
        {
         "name": "Do you have a history of orthopedic injury?",
         "rawType": "object",
         "type": "string"
        },
        {
         "name": "Neck Injury",
         "rawType": "object",
         "type": "string"
        },
        {
         "name": "Back Injury",
         "rawType": "object",
         "type": "string"
        },
        {
         "name": "Shoulder Injury",
         "rawType": "object",
         "type": "string"
        },
        {
         "name": "Leg Injury",
         "rawType": "object",
         "type": "string"
        },
        {
         "name": "Arm Injury",
         "rawType": "object",
         "type": "string"
        },
        {
         "name": "Other Injury",
         "rawType": "object",
         "type": "string"
        },
        {
         "name": "Have you ever had surgery for orthopedic injury?",
         "rawType": "object",
         "type": "string"
        },
        {
         "name": "Do you have any chronic pain syndromes?",
         "rawType": "object",
         "type": "string"
        },
        {
         "name": "Neck Pain",
         "rawType": "object",
         "type": "string"
        },
        {
         "name": "Back Pain",
         "rawType": "object",
         "type": "string"
        },
        {
         "name": "Shoulder Pain",
         "rawType": "object",
         "type": "string"
        },
        {
         "name": "Arm Pain",
         "rawType": "object",
         "type": "string"
        },
        {
         "name": "Leg Pain",
         "rawType": "object",
         "type": "string"
        },
        {
         "name": "Other Pain",
         "rawType": "object",
         "type": "string"
        },
        {
         "name": "Complete?",
         "rawType": "object",
         "type": "string"
        },
        {
         "name": "Height_m",
         "rawType": "float64",
         "type": "float"
        },
        {
         "name": "Weight_kg",
         "rawType": "float64",
         "type": "float"
        },
        {
         "name": "BMI",
         "rawType": "float64",
         "type": "float"
        }
       ],
       "conversionMethod": "pd.DataFrame",
       "ref": "d70e791a-13d4-4e84-95c2-5cb6771698af",
       "rows": [
        [
         "6",
         "7",
         "31",
         "White North American",
         "Hispanic or Latino",
         "female",
         "Interventional Fellow",
         "3.0",
         "65",
         "200",
         null,
         "two piece",
         "1 day a week",
         "Checked",
         "Unchecked",
         "Unchecked",
         "Unchecked",
         "Unchecked",
         "Unchecked",
         "Unchecked",
         "Unchecked",
         "Yes",
         "Unchecked",
         "Checked",
         "Unchecked",
         "Unchecked",
         "Unchecked",
         "Unchecked",
         "No",
         "No",
         "Unchecked",
         "Unchecked",
         "Unchecked",
         "Unchecked",
         "Unchecked",
         "Unchecked",
         "Complete",
         "1.651",
         "90.7184",
         "33.281373071621886"
        ],
        [
         "22",
         "23",
         "31",
         "White European",
         "Not Hispanic or Latino",
         "male",
         "General Fellow",
         "3.0",
         "73",
         "215",
         null,
         "two piece",
         "4+ days a week",
         "Unchecked",
         "Checked",
         "Checked",
         "Checked",
         "Unchecked",
         "Unchecked",
         "Unchecked",
         "Unchecked",
         "No",
         "Unchecked",
         "Unchecked",
         "Unchecked",
         "Unchecked",
         "Unchecked",
         "Unchecked",
         "No",
         "No",
         "Unchecked",
         "Unchecked",
         "Unchecked",
         "Unchecked",
         "Unchecked",
         "Unchecked",
         "Complete",
         "1.8541999999999998",
         "97.52228",
         "28.365516291925815"
        ]
       ],
       "shape": {
        "columns": 39,
        "rows": 2
       }
      },
      "text/html": [
       "<div>\n",
       "<style scoped>\n",
       "    .dataframe tbody tr th:only-of-type {\n",
       "        vertical-align: middle;\n",
       "    }\n",
       "\n",
       "    .dataframe tbody tr th {\n",
       "        vertical-align: top;\n",
       "    }\n",
       "\n",
       "    .dataframe thead th {\n",
       "        text-align: right;\n",
       "    }\n",
       "</style>\n",
       "<table border=\"1\" class=\"dataframe\">\n",
       "  <thead>\n",
       "    <tr style=\"text-align: right;\">\n",
       "      <th></th>\n",
       "      <th>Participant ID</th>\n",
       "      <th>Age</th>\n",
       "      <th>Race</th>\n",
       "      <th>Ethnicity</th>\n",
       "      <th>Gender</th>\n",
       "      <th>Role in cath lab</th>\n",
       "      <th>How many years has the participant worked in the cardiac catheterization laboratory?</th>\n",
       "      <th>Participant Height (in)</th>\n",
       "      <th>Participant Weight (lbs)</th>\n",
       "      <th>Weight of Lead (lbs)</th>\n",
       "      <th>...</th>\n",
       "      <th>Neck Pain</th>\n",
       "      <th>Back Pain</th>\n",
       "      <th>Shoulder Pain</th>\n",
       "      <th>Arm Pain</th>\n",
       "      <th>Leg Pain</th>\n",
       "      <th>Other Pain</th>\n",
       "      <th>Complete?</th>\n",
       "      <th>Height_m</th>\n",
       "      <th>Weight_kg</th>\n",
       "      <th>BMI</th>\n",
       "    </tr>\n",
       "  </thead>\n",
       "  <tbody>\n",
       "    <tr>\n",
       "      <th>6</th>\n",
       "      <td>7</td>\n",
       "      <td>31</td>\n",
       "      <td>White North American</td>\n",
       "      <td>Hispanic or Latino</td>\n",
       "      <td>female</td>\n",
       "      <td>Interventional Fellow</td>\n",
       "      <td>3.0</td>\n",
       "      <td>65</td>\n",
       "      <td>200</td>\n",
       "      <td>NaN</td>\n",
       "      <td>...</td>\n",
       "      <td>Unchecked</td>\n",
       "      <td>Unchecked</td>\n",
       "      <td>Unchecked</td>\n",
       "      <td>Unchecked</td>\n",
       "      <td>Unchecked</td>\n",
       "      <td>Unchecked</td>\n",
       "      <td>Complete</td>\n",
       "      <td>1.6510</td>\n",
       "      <td>90.71840</td>\n",
       "      <td>33.281373</td>\n",
       "    </tr>\n",
       "    <tr>\n",
       "      <th>22</th>\n",
       "      <td>23</td>\n",
       "      <td>31</td>\n",
       "      <td>White European</td>\n",
       "      <td>Not Hispanic or Latino</td>\n",
       "      <td>male</td>\n",
       "      <td>General Fellow</td>\n",
       "      <td>3.0</td>\n",
       "      <td>73</td>\n",
       "      <td>215</td>\n",
       "      <td>NaN</td>\n",
       "      <td>...</td>\n",
       "      <td>Unchecked</td>\n",
       "      <td>Unchecked</td>\n",
       "      <td>Unchecked</td>\n",
       "      <td>Unchecked</td>\n",
       "      <td>Unchecked</td>\n",
       "      <td>Unchecked</td>\n",
       "      <td>Complete</td>\n",
       "      <td>1.8542</td>\n",
       "      <td>97.52228</td>\n",
       "      <td>28.365516</td>\n",
       "    </tr>\n",
       "  </tbody>\n",
       "</table>\n",
       "<p>2 rows × 39 columns</p>\n",
       "</div>"
      ],
      "text/plain": [
       "    Participant ID  Age                 Race               Ethnicity   Gender  \\\n",
       "6                7   31  White North American      Hispanic or Latino  female   \n",
       "22              23   31        White European  Not Hispanic or Latino    male   \n",
       "\n",
       "         Role in cath lab  \\\n",
       "6   Interventional Fellow   \n",
       "22         General Fellow   \n",
       "\n",
       "    How many years has the participant worked in the cardiac catheterization laboratory?  \\\n",
       "6                                                 3.0                                      \n",
       "22                                                3.0                                      \n",
       "\n",
       "    Participant Height (in)  Participant Weight (lbs)  Weight of Lead (lbs)  \\\n",
       "6                        65                       200                   NaN   \n",
       "22                       73                       215                   NaN   \n",
       "\n",
       "    ...  Neck Pain  Back Pain Shoulder Pain   Arm Pain   Leg Pain Other Pain  \\\n",
       "6   ...  Unchecked  Unchecked     Unchecked  Unchecked  Unchecked  Unchecked   \n",
       "22  ...  Unchecked  Unchecked     Unchecked  Unchecked  Unchecked  Unchecked   \n",
       "\n",
       "   Complete? Height_m Weight_kg        BMI  \n",
       "6   Complete   1.6510  90.71840  33.281373  \n",
       "22  Complete   1.8542  97.52228  28.365516  \n",
       "\n",
       "[2 rows x 39 columns]"
      ]
     },
     "execution_count": 34,
     "metadata": {},
     "output_type": "execute_result"
    }
   ],
   "source": [
    "# Pull the minumum age subject from the demographic data\n",
    "min_age = demographic_data['Age'].min()\n",
    "# Pull the maximum age subject from the demographic data\n",
    "max_age = demographic_data['Age'].max()\n",
    "\n",
    "# What subjects are the min and max age\n",
    "min_age_subjects = demographic_data[demographic_data['Age'] == min_age]\n",
    "max_age_subjects = demographic_data[demographic_data['Age'] == max_age]\n",
    "\n",
    "# Showcase the subjects that are minimum and maximum age\n",
    "min_age_subjects"
   ]
  },
  {
   "cell_type": "code",
   "execution_count": 35,
   "metadata": {},
   "outputs": [
    {
     "data": {
      "application/vnd.microsoft.datawrangler.viewer.v0+json": {
       "columns": [
        {
         "name": "index",
         "rawType": "int64",
         "type": "integer"
        },
        {
         "name": "Participant ID",
         "rawType": "int64",
         "type": "integer"
        },
        {
         "name": "Age",
         "rawType": "int64",
         "type": "integer"
        },
        {
         "name": "Race ",
         "rawType": "object",
         "type": "string"
        },
        {
         "name": "Ethnicity ",
         "rawType": "object",
         "type": "string"
        },
        {
         "name": "Gender",
         "rawType": "object",
         "type": "string"
        },
        {
         "name": "Role in cath lab",
         "rawType": "object",
         "type": "string"
        },
        {
         "name": "How many years has the participant worked in the cardiac catheterization laboratory?",
         "rawType": "float64",
         "type": "float"
        },
        {
         "name": "Participant Height (in)",
         "rawType": "int64",
         "type": "integer"
        },
        {
         "name": "Participant Weight (lbs)",
         "rawType": "int64",
         "type": "integer"
        },
        {
         "name": "Weight of Lead (lbs)",
         "rawType": "float64",
         "type": "float"
        },
        {
         "name": "Is the lead...",
         "rawType": "object",
         "type": "string"
        },
        {
         "name": "Do you exercise...",
         "rawType": "object",
         "type": "string"
        },
        {
         "name": "Cardio",
         "rawType": "object",
         "type": "string"
        },
        {
         "name": "Upper Body Strength Training",
         "rawType": "object",
         "type": "string"
        },
        {
         "name": "Lower body strength training",
         "rawType": "object",
         "type": "string"
        },
        {
         "name": "Abdominal strength training",
         "rawType": "object",
         "type": "string"
        },
        {
         "name": "Yoga",
         "rawType": "object",
         "type": "string"
        },
        {
         "name": "Stretching",
         "rawType": "object",
         "type": "string"
        },
        {
         "name": "Pilates",
         "rawType": "object",
         "type": "string"
        },
        {
         "name": "Other Exercise",
         "rawType": "object",
         "type": "string"
        },
        {
         "name": "Do you have a history of orthopedic injury?",
         "rawType": "object",
         "type": "string"
        },
        {
         "name": "Neck Injury",
         "rawType": "object",
         "type": "string"
        },
        {
         "name": "Back Injury",
         "rawType": "object",
         "type": "string"
        },
        {
         "name": "Shoulder Injury",
         "rawType": "object",
         "type": "string"
        },
        {
         "name": "Leg Injury",
         "rawType": "object",
         "type": "string"
        },
        {
         "name": "Arm Injury",
         "rawType": "object",
         "type": "string"
        },
        {
         "name": "Other Injury",
         "rawType": "object",
         "type": "string"
        },
        {
         "name": "Have you ever had surgery for orthopedic injury?",
         "rawType": "object",
         "type": "string"
        },
        {
         "name": "Do you have any chronic pain syndromes?",
         "rawType": "object",
         "type": "string"
        },
        {
         "name": "Neck Pain",
         "rawType": "object",
         "type": "string"
        },
        {
         "name": "Back Pain",
         "rawType": "object",
         "type": "string"
        },
        {
         "name": "Shoulder Pain",
         "rawType": "object",
         "type": "string"
        },
        {
         "name": "Arm Pain",
         "rawType": "object",
         "type": "string"
        },
        {
         "name": "Leg Pain",
         "rawType": "object",
         "type": "string"
        },
        {
         "name": "Other Pain",
         "rawType": "object",
         "type": "string"
        },
        {
         "name": "Complete?",
         "rawType": "object",
         "type": "string"
        },
        {
         "name": "Height_m",
         "rawType": "float64",
         "type": "float"
        },
        {
         "name": "Weight_kg",
         "rawType": "float64",
         "type": "float"
        },
        {
         "name": "BMI",
         "rawType": "float64",
         "type": "float"
        }
       ],
       "conversionMethod": "pd.DataFrame",
       "ref": "9615a51c-b639-4355-8a00-1bb41b4c6ca3",
       "rows": [
        [
         "28",
         "29",
         "62",
         "Caucasian",
         "Not Hispanic or Latino",
         "female",
         "Attending",
         null,
         "62",
         "150",
         null,
         "two piece",
         "2-3 days a week",
         "Checked",
         "Unchecked",
         "Unchecked",
         "Unchecked",
         "Unchecked",
         "Unchecked",
         "Unchecked",
         "Unchecked",
         "Yes",
         "Unchecked",
         "Unchecked",
         "Unchecked",
         "Checked",
         "Unchecked",
         "Unchecked",
         "Yes",
         "No",
         "Unchecked",
         "Unchecked",
         "Unchecked",
         "Unchecked",
         "Unchecked",
         "Unchecked",
         "Complete",
         "1.5748",
         "68.0388",
         "27.435054870109738"
        ]
       ],
       "shape": {
        "columns": 39,
        "rows": 1
       }
      },
      "text/html": [
       "<div>\n",
       "<style scoped>\n",
       "    .dataframe tbody tr th:only-of-type {\n",
       "        vertical-align: middle;\n",
       "    }\n",
       "\n",
       "    .dataframe tbody tr th {\n",
       "        vertical-align: top;\n",
       "    }\n",
       "\n",
       "    .dataframe thead th {\n",
       "        text-align: right;\n",
       "    }\n",
       "</style>\n",
       "<table border=\"1\" class=\"dataframe\">\n",
       "  <thead>\n",
       "    <tr style=\"text-align: right;\">\n",
       "      <th></th>\n",
       "      <th>Participant ID</th>\n",
       "      <th>Age</th>\n",
       "      <th>Race</th>\n",
       "      <th>Ethnicity</th>\n",
       "      <th>Gender</th>\n",
       "      <th>Role in cath lab</th>\n",
       "      <th>How many years has the participant worked in the cardiac catheterization laboratory?</th>\n",
       "      <th>Participant Height (in)</th>\n",
       "      <th>Participant Weight (lbs)</th>\n",
       "      <th>Weight of Lead (lbs)</th>\n",
       "      <th>...</th>\n",
       "      <th>Neck Pain</th>\n",
       "      <th>Back Pain</th>\n",
       "      <th>Shoulder Pain</th>\n",
       "      <th>Arm Pain</th>\n",
       "      <th>Leg Pain</th>\n",
       "      <th>Other Pain</th>\n",
       "      <th>Complete?</th>\n",
       "      <th>Height_m</th>\n",
       "      <th>Weight_kg</th>\n",
       "      <th>BMI</th>\n",
       "    </tr>\n",
       "  </thead>\n",
       "  <tbody>\n",
       "    <tr>\n",
       "      <th>28</th>\n",
       "      <td>29</td>\n",
       "      <td>62</td>\n",
       "      <td>Caucasian</td>\n",
       "      <td>Not Hispanic or Latino</td>\n",
       "      <td>female</td>\n",
       "      <td>Attending</td>\n",
       "      <td>NaN</td>\n",
       "      <td>62</td>\n",
       "      <td>150</td>\n",
       "      <td>NaN</td>\n",
       "      <td>...</td>\n",
       "      <td>Unchecked</td>\n",
       "      <td>Unchecked</td>\n",
       "      <td>Unchecked</td>\n",
       "      <td>Unchecked</td>\n",
       "      <td>Unchecked</td>\n",
       "      <td>Unchecked</td>\n",
       "      <td>Complete</td>\n",
       "      <td>1.5748</td>\n",
       "      <td>68.0388</td>\n",
       "      <td>27.435055</td>\n",
       "    </tr>\n",
       "  </tbody>\n",
       "</table>\n",
       "<p>1 rows × 39 columns</p>\n",
       "</div>"
      ],
      "text/plain": [
       "    Participant ID  Age      Race               Ethnicity   Gender  \\\n",
       "28              29   62  Caucasian  Not Hispanic or Latino  female   \n",
       "\n",
       "   Role in cath lab  \\\n",
       "28        Attending   \n",
       "\n",
       "    How many years has the participant worked in the cardiac catheterization laboratory?  \\\n",
       "28                                                NaN                                      \n",
       "\n",
       "    Participant Height (in)  Participant Weight (lbs)  Weight of Lead (lbs)  \\\n",
       "28                       62                       150                   NaN   \n",
       "\n",
       "    ...  Neck Pain  Back Pain Shoulder Pain   Arm Pain   Leg Pain Other Pain  \\\n",
       "28  ...  Unchecked  Unchecked     Unchecked  Unchecked  Unchecked  Unchecked   \n",
       "\n",
       "   Complete? Height_m Weight_kg        BMI  \n",
       "28  Complete   1.5748   68.0388  27.435055  \n",
       "\n",
       "[1 rows x 39 columns]"
      ]
     },
     "execution_count": 35,
     "metadata": {},
     "output_type": "execute_result"
    }
   ],
   "source": [
    "max_age_subjects"
   ]
  },
  {
   "cell_type": "markdown",
   "metadata": {},
   "source": [
    "# Conclusion:"
   ]
  },
  {
   "cell_type": "markdown",
   "metadata": {},
   "source": [
    "This notebook gives insights into the general layout of the data for these different instances. "
   ]
  }
 ],
 "metadata": {
  "kernelspec": {
   "display_name": ".venv",
   "language": "python",
   "name": "python3"
  },
  "language_info": {
   "codemirror_mode": {
    "name": "ipython",
    "version": 3
   },
   "file_extension": ".py",
   "mimetype": "text/x-python",
   "name": "python",
   "nbconvert_exporter": "python",
   "pygments_lexer": "ipython3",
   "version": "3.12.9"
  }
 },
 "nbformat": 4,
 "nbformat_minor": 2
}
